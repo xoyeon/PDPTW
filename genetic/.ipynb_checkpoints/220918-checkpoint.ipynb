{
 "cells": [
  {
   "cell_type": "code",
   "execution_count": 146,
   "id": "184d97ab",
   "metadata": {},
   "outputs": [
    {
     "name": "stdout",
     "output_type": "stream",
     "text": [
      "order ['r1', 8708, 5633, 'o1', 9131, 7497, 743, 753]\n",
      "근무중인 라이더 9\n",
      "equation_inputs [[ 3810  7415   690   810]\n",
      " [ 3217  9891   690   840]\n",
      " [11678  3104   690   810]\n",
      " [ 7651  4332   690   810]\n",
      " [10855  7784   690   810]\n",
      " [ 7038  5694   690   840]\n",
      " [ 5013  2778   690   810]\n",
      " [ 8236  1518   690   810]\n",
      " [ 4981  4827   690   840]]\n",
      "num_weights 9\n",
      "new_population [[[ 4.   4.   6.   6.   8.   8.   3.   8.   6. ]\n",
      "  [41.  39.  50.  57.  44.  34.  46.  53.  54. ]\n",
      "  [ 0.9  0.9  0.9  0.9  0.9  0.9  0.9  0.9  0.9]]\n",
      "\n",
      " [[ 5.   5.   6.   8.   8.   6.   4.   6.   6. ]\n",
      "  [57.  31.  40.  48.  50.  30.  37.  30.  49. ]\n",
      "  [ 0.9  0.9  0.9  0.9  0.9  0.9  0.9  0.9  0.9]]\n",
      "\n",
      " [[ 3.   5.   7.   3.   5.   9.   5.   8.   7. ]\n",
      "  [41.  37.  44.  42.  36.  59.  33.  50.  53. ]\n",
      "  [ 0.9  0.9  0.9  0.9  0.9  0.9  0.9  0.9  0.9]]\n",
      "\n",
      " [[ 4.   8.   8.   3.   8.   4.   5.   4.   5. ]\n",
      "  [46.  40.  46.  43.  42.  57.  43.  30.  53. ]\n",
      "  [ 0.9  0.9  0.9  0.9  0.9  0.9  0.9  0.9  0.9]]\n",
      "\n",
      " [[ 4.   6.   8.   4.   9.   5.   5.   3.   9. ]\n",
      "  [55.  38.  51.  52.  46.  46.  37.  38.  35. ]\n",
      "  [ 0.9  0.9  0.9  0.9  0.9  0.9  0.9  0.9  0.9]]]\n"
     ]
    }
   ],
   "source": [
    "import pandas as pd\n",
    "import numpy\n",
    "\n",
    "# data\n",
    "restaurants = pd.read_csv(\"https://raw.githubusercontent.com/xoyeon/PDPTW/main/grubhub/0o100t100s1p100/restaurants.txt\", sep = '\\t')\n",
    "orders = pd.read_csv(\"https://raw.githubusercontent.com/xoyeon/PDPTW/main/grubhub/0o100t100s1p100/orders.txt\", sep = '\\t')\n",
    "couriers = pd.read_csv(\"https://raw.githubusercontent.com/xoyeon/PDPTW/main/grubhub/0o100t100s1p100/couriers.txt\", sep = '\\t')\n",
    "rest_orders = pd.merge(restaurants, orders, how='inner', on=['restaurant'])\n",
    "rest_orders.columns = ['restaurant', 'rx', 'ry', 'order', 'ox', 'oy', 'placement_time', 'ready_time']\n",
    "\n",
    "# 주문 건\n",
    "# order = rest_orders.sample(n=1)\n",
    "order = ['r1',8708,5633,'o1',9131,7497,743,753]\n",
    "print(\"order\", order)\n",
    "# 근무중인 라이더\n",
    "rider = couriers[(couriers['on_time'] <= order[6]) & (couriers['off_time'] >= order[7])]\n",
    "working_rider = len(rider)\n",
    "print(\"근무중인 라이더\", working_rider)\n",
    "\"\"\"\n",
    "Genetic algorithm parameters:\n",
    "    Mating pool size\n",
    "    Population size\n",
    "\"\"\"\n",
    "\n",
    "\n",
    "# Defining the population size.\n",
    "sol_per_pop = 5\n",
    "num_parents_mating = 4\n",
    "\n",
    "# Inputs of the equation. # 내가 업데이트 해야하는 값\n",
    "dist_x = numpy.array(rider['x'])\n",
    "dist_y = numpy.array(rider['y'])\n",
    "on_time = numpy.array(rider['on_time'])\n",
    "off_time = numpy.array(rider['off_time'])\n",
    "\n",
    "equation_inputs = numpy.stack((dist_x, dist_y, on_time, off_time), axis=1)\n",
    "print(\"equation_inputs\",equation_inputs)\n",
    "\n",
    "# Number of the weights we are looking to optimize.\n",
    "num_weights = len(equation_inputs)\n",
    "print(\"num_weights\",num_weights)\n",
    "\n",
    "# The population will have sol_per_pop chromosome where each chromosome has num_weights genes.\n",
    "pop_size = (sol_per_pop,num_weights)\n",
    "\n",
    "#Creating the initial population.\n",
    "delivered_num = numpy.random.uniform(low=3, high=10, size=pop_size).astype(int)\n",
    "speed = numpy.random.uniform(low=30, high=60, size=pop_size).astype(int)\n",
    "trustiness = numpy.full(pop_size, 0.90)\n",
    "\n",
    "new_population = numpy.stack((delivered_num, speed, trustiness), axis=1)\n",
    "print(\"new_population\",new_population)"
   ]
  },
  {
   "cell_type": "code",
   "execution_count": 160,
   "id": "d3bf805b",
   "metadata": {},
   "outputs": [
    {
     "name": "stdout",
     "output_type": "stream",
     "text": [
      "5\n",
      "[15.703703703703704, 16.0, 15.407407407407407, 14.518518518518519, 15.703703703703704]\n"
     ]
    }
   ],
   "source": [
    "def standard_deviation(equation_inputs, pop):\n",
    "    std = []\n",
    "    for s in range(len(pop)):\n",
    "        mean = sum(pop[:,0][s]) / len(equation_inputs)\n",
    "        var = ((sum(pop[:,0][s]) - mean)**2) / len(equation_inputs)\n",
    "        std.append(var ** 0.5)\n",
    "    return std\n",
    "std = standard_deviation(equation_inputs, new_population)\n",
    "print(len(std))\n",
    "print(std)"
   ]
  },
  {
   "cell_type": "code",
   "execution_count": 311,
   "id": "ab8750aa",
   "metadata": {},
   "outputs": [
    {
     "name": "stdout",
     "output_type": "stream",
     "text": [
      "(9,)\n",
      "[5551.52 7206.6  4343.98 2542.3  3590.24 2538.91 5045.54 4561.74 4265.39]\n"
     ]
    }
   ],
   "source": [
    "def calculate_distance(order, equation_inputs):\n",
    "    distance = ((equation_inputs[:,0]-order[1])**2 + (equation_inputs[:,1]-order[2])**2 + (\n",
    "        order[1]-order[4])**2 + (order[2]-order[5])**2) ** 0.5\n",
    "    distance = numpy.round(distance, 2)\n",
    "#     distance = distance.reshape(-1,1)\n",
    "    return distance\n",
    "\n",
    "distance = calculate_distance(order, equation_inputs)\n",
    "print(distance.shape)\n",
    "print(distance)"
   ]
  },
  {
   "cell_type": "code",
   "execution_count": 312,
   "id": "88a1184f",
   "metadata": {},
   "outputs": [
    {
     "data": {
      "text/plain": [
       "array([[135.40292683, 184.78461538,  86.8796    ,  44.60175439,\n",
       "         81.59636364,  74.67382353, 109.68565217,  86.07056604,\n",
       "         78.9887037 ],\n",
       "       [ 97.39508772, 232.47096774, 108.5995    ,  52.96458333,\n",
       "         71.8048    ,  84.63033333, 136.36594595, 152.058     ,\n",
       "         87.04877551],\n",
       "       [135.40292683, 194.77297297,  98.72681818,  60.53095238,\n",
       "         99.72888889,  43.03237288, 152.89515152,  91.2348    ,\n",
       "         80.4790566 ],\n",
       "       [120.68521739, 180.165     ,  94.43434783,  59.12325581,\n",
       "         85.48190476,  44.5422807 , 117.33813953, 152.058     ,\n",
       "         80.4790566 ],\n",
       "       [100.93672727, 189.64736842,  85.17607843,  48.89038462,\n",
       "         78.04869565,  55.19369565, 136.36594595, 120.04578947,\n",
       "        121.86828571]])"
      ]
     },
     "execution_count": 312,
     "metadata": {},
     "output_type": "execute_result"
    }
   ],
   "source": [
    "distance / new_population[:,1]"
   ]
  },
  {
   "cell_type": "code",
   "execution_count": 315,
   "id": "5a2b5f1d",
   "metadata": {},
   "outputs": [
    {
     "name": "stdout",
     "output_type": "stream",
     "text": [
      "(5, 9)\n",
      "[[135.40292683 184.78461538  86.8796      44.60175439  81.59636364\n",
      "   74.67382353 109.68565217  86.07056604  78.9887037 ]\n",
      " [ 97.39508772 232.47096774 108.5995      52.96458333  71.8048\n",
      "   84.63033333 136.36594595 152.058       87.04877551]\n",
      " [135.40292683 194.77297297  98.72681818  60.53095238  99.72888889\n",
      "   43.03237288 152.89515152  91.2348      80.4790566 ]\n",
      " [120.68521739 180.165       94.43434783  59.12325581  85.48190476\n",
      "   44.5422807  117.33813953 152.058       80.4790566 ]\n",
      " [100.93672727 189.64736842  85.17607843  48.89038462  78.04869565\n",
      "   55.19369565 136.36594595 120.04578947 121.86828571]]\n"
     ]
    }
   ],
   "source": [
    "def calculate_time(order, equation_inputs, pop):\n",
    "    distance = calculate_distance(order, equation_inputs)\n",
    "    time = distance / new_population[:,1]\n",
    "    return time\n",
    "time = calculate_time(order, equation_inputs, new_population)\n",
    "print(time.shape)\n",
    "print(time)"
   ]
  },
  {
   "cell_type": "code",
   "execution_count": 316,
   "id": "6b4f1a55",
   "metadata": {},
   "outputs": [
    {
     "data": {
      "text/plain": [
       "array([[41., 39., 50., 57., 44., 34., 46., 53., 54.],\n",
       "       [57., 31., 40., 48., 50., 30., 37., 30., 49.],\n",
       "       [41., 37., 44., 42., 36., 59., 33., 50., 53.],\n",
       "       [46., 40., 46., 43., 42., 57., 43., 30., 53.],\n",
       "       [55., 38., 51., 52., 46., 46., 37., 38., 35.]])"
      ]
     },
     "execution_count": 316,
     "metadata": {},
     "output_type": "execute_result"
    }
   ],
   "source": [
    "distance/time"
   ]
  },
  {
   "cell_type": "code",
   "execution_count": 318,
   "id": "4c549321",
   "metadata": {},
   "outputs": [
    {
     "data": {
      "text/plain": [
       "[15.703703703703704,\n",
       " 16.0,\n",
       " 15.407407407407407,\n",
       " 14.518518518518519,\n",
       " 15.703703703703704]"
      ]
     },
     "execution_count": 318,
     "metadata": {},
     "output_type": "execute_result"
    }
   ],
   "source": [
    "std"
   ]
  },
  {
   "cell_type": "code",
   "execution_count": 317,
   "id": "0b99d4ab",
   "metadata": {},
   "outputs": [
    {
     "ename": "ValueError",
     "evalue": "operands could not be broadcast together with shapes (5,) (5,9) ",
     "output_type": "error",
     "traceback": [
      "\u001b[1;31m---------------------------------------------------------------------------\u001b[0m",
      "\u001b[1;31mValueError\u001b[0m                                Traceback (most recent call last)",
      "\u001b[1;32m~\\AppData\\Local\\Temp\\ipykernel_16828\\4088673366.py\u001b[0m in \u001b[0;36m<module>\u001b[1;34m\u001b[0m\n\u001b[1;32m----> 1\u001b[1;33m \u001b[0mstd\u001b[0m \u001b[1;33m+\u001b[0m \u001b[0mdistance\u001b[0m\u001b[1;33m/\u001b[0m\u001b[0mtime\u001b[0m\u001b[1;33m\u001b[0m\u001b[1;33m\u001b[0m\u001b[0m\n\u001b[0m",
      "\u001b[1;31mValueError\u001b[0m: operands could not be broadcast together with shapes (5,) (5,9) "
     ]
    }
   ],
   "source": [
    "std + distance/time"
   ]
  },
  {
   "cell_type": "code",
   "execution_count": 245,
   "id": "39b7661c",
   "metadata": {},
   "outputs": [
    {
     "data": {
      "text/plain": [
       "array([135.40292683, 142.34666667, 111.0304    ,  97.39508772,\n",
       "       126.17090909, 163.28      , 120.68521739, 104.74566038,\n",
       "       102.80592593])"
      ]
     },
     "execution_count": 245,
     "metadata": {},
     "output_type": "execute_result"
    }
   ],
   "source": [
    "distance[0] / new_population[:,1][0]"
   ]
  },
  {
   "cell_type": "code",
   "execution_count": 246,
   "id": "2aba5cb8",
   "metadata": {},
   "outputs": [
    {
     "ename": "IndexError",
     "evalue": "index 5 is out of bounds for axis 0 with size 5",
     "output_type": "error",
     "traceback": [
      "\u001b[1;31m---------------------------------------------------------------------------\u001b[0m",
      "\u001b[1;31mIndexError\u001b[0m                                Traceback (most recent call last)",
      "\u001b[1;32m~\\AppData\\Local\\Temp\\ipykernel_16828\\3920579808.py\u001b[0m in \u001b[0;36m<module>\u001b[1;34m\u001b[0m\n\u001b[0;32m      2\u001b[0m \u001b[1;32mfor\u001b[0m \u001b[0mp\u001b[0m \u001b[1;32min\u001b[0m \u001b[0mrange\u001b[0m\u001b[1;33m(\u001b[0m\u001b[0mlen\u001b[0m\u001b[1;33m(\u001b[0m\u001b[0mequation_inputs\u001b[0m\u001b[1;33m)\u001b[0m\u001b[1;33m)\u001b[0m\u001b[1;33m:\u001b[0m\u001b[1;33m\u001b[0m\u001b[1;33m\u001b[0m\u001b[0m\n\u001b[0;32m      3\u001b[0m     \u001b[1;32mfor\u001b[0m \u001b[0mn\u001b[0m \u001b[1;32min\u001b[0m \u001b[0mrange\u001b[0m\u001b[1;33m(\u001b[0m\u001b[0mlen\u001b[0m\u001b[1;33m(\u001b[0m\u001b[0mnew_population\u001b[0m\u001b[1;33m)\u001b[0m\u001b[1;33m)\u001b[0m\u001b[1;33m:\u001b[0m\u001b[1;33m\u001b[0m\u001b[1;33m\u001b[0m\u001b[0m\n\u001b[1;32m----> 4\u001b[1;33m         \u001b[0mt\u001b[0m \u001b[1;33m=\u001b[0m \u001b[0mdistance\u001b[0m\u001b[1;33m[\u001b[0m\u001b[0mp\u001b[0m\u001b[1;33m]\u001b[0m \u001b[1;33m/\u001b[0m \u001b[0mnew_population\u001b[0m\u001b[1;33m[\u001b[0m\u001b[1;33m:\u001b[0m\u001b[1;33m,\u001b[0m\u001b[1;36m1\u001b[0m\u001b[1;33m]\u001b[0m\u001b[1;33m[\u001b[0m\u001b[0mp\u001b[0m\u001b[1;33m]\u001b[0m\u001b[1;33m\u001b[0m\u001b[1;33m\u001b[0m\u001b[0m\n\u001b[0m\u001b[0;32m      5\u001b[0m         \u001b[0mtime\u001b[0m\u001b[1;33m.\u001b[0m\u001b[0mappend\u001b[0m\u001b[1;33m(\u001b[0m\u001b[0mt\u001b[0m\u001b[1;33m)\u001b[0m\u001b[1;33m\u001b[0m\u001b[1;33m\u001b[0m\u001b[0m\n\u001b[0;32m      6\u001b[0m \u001b[0mtime\u001b[0m\u001b[1;33m\u001b[0m\u001b[1;33m\u001b[0m\u001b[0m\n",
      "\u001b[1;31mIndexError\u001b[0m: index 5 is out of bounds for axis 0 with size 5"
     ]
    }
   ],
   "source": [
    "time = []\n",
    "for p in range(len(equation_inputs)):\n",
    "    for n in range(len(new_population)):\n",
    "        t = distance[p] / new_population[:,1][p]\n",
    "        time.append(t)\n",
    "time"
   ]
  },
  {
   "cell_type": "code",
   "execution_count": 228,
   "id": "3304da12",
   "metadata": {},
   "outputs": [
    {
     "data": {
      "text/plain": [
       "9"
      ]
     },
     "execution_count": 228,
     "metadata": {},
     "output_type": "execute_result"
    }
   ],
   "source": [
    "len(new_population[:,1][0])"
   ]
  },
  {
   "cell_type": "code",
   "execution_count": 236,
   "id": "868ba733",
   "metadata": {},
   "outputs": [
    {
     "name": "stdout",
     "output_type": "stream",
     "text": [
      "[135.40292683]\n",
      "[97.39508772]\n",
      "[135.40292683]\n",
      "[120.68521739]\n",
      "[100.93672727]\n"
     ]
    },
    {
     "ename": "IndexError",
     "evalue": "index 5 is out of bounds for axis 0 with size 5",
     "output_type": "error",
     "traceback": [
      "\u001b[1;31m---------------------------------------------------------------------------\u001b[0m",
      "\u001b[1;31mIndexError\u001b[0m                                Traceback (most recent call last)",
      "\u001b[1;32m~\\AppData\\Local\\Temp\\ipykernel_16828\\2462947376.py\u001b[0m in \u001b[0;36m<module>\u001b[1;34m\u001b[0m\n\u001b[0;32m      2\u001b[0m \u001b[1;32mfor\u001b[0m \u001b[0mp\u001b[0m \u001b[1;32min\u001b[0m \u001b[0mrange\u001b[0m\u001b[1;33m(\u001b[0m\u001b[0mlen\u001b[0m\u001b[1;33m(\u001b[0m\u001b[0mequation_inputs\u001b[0m\u001b[1;33m)\u001b[0m\u001b[1;33m)\u001b[0m\u001b[1;33m:\u001b[0m\u001b[1;33m\u001b[0m\u001b[1;33m\u001b[0m\u001b[0m\n\u001b[0;32m      3\u001b[0m     \u001b[1;32mfor\u001b[0m \u001b[0mn\u001b[0m \u001b[1;32min\u001b[0m \u001b[0mrange\u001b[0m\u001b[1;33m(\u001b[0m\u001b[0mlen\u001b[0m\u001b[1;33m(\u001b[0m\u001b[0mnew_population\u001b[0m\u001b[1;33m[\u001b[0m\u001b[1;33m:\u001b[0m\u001b[1;33m,\u001b[0m\u001b[1;36m1\u001b[0m\u001b[1;33m]\u001b[0m\u001b[1;33m[\u001b[0m\u001b[0mp\u001b[0m\u001b[1;33m]\u001b[0m\u001b[1;33m)\u001b[0m\u001b[1;33m)\u001b[0m\u001b[1;33m:\u001b[0m\u001b[1;33m\u001b[0m\u001b[1;33m\u001b[0m\u001b[0m\n\u001b[1;32m----> 4\u001b[1;33m         \u001b[0mt\u001b[0m \u001b[1;33m=\u001b[0m \u001b[0mdistance\u001b[0m\u001b[1;33m[\u001b[0m\u001b[0mp\u001b[0m\u001b[1;33m]\u001b[0m \u001b[1;33m/\u001b[0m \u001b[0mnew_population\u001b[0m\u001b[1;33m[\u001b[0m\u001b[1;33m:\u001b[0m\u001b[1;33m,\u001b[0m\u001b[1;36m1\u001b[0m\u001b[1;33m]\u001b[0m\u001b[1;33m[\u001b[0m\u001b[0mn\u001b[0m\u001b[1;33m]\u001b[0m\u001b[1;33m[\u001b[0m\u001b[0mp\u001b[0m\u001b[1;33m]\u001b[0m\u001b[1;33m\u001b[0m\u001b[1;33m\u001b[0m\u001b[0m\n\u001b[0m\u001b[0;32m      5\u001b[0m         \u001b[0mprint\u001b[0m\u001b[1;33m(\u001b[0m\u001b[0mt\u001b[0m\u001b[1;33m)\u001b[0m\u001b[1;33m\u001b[0m\u001b[1;33m\u001b[0m\u001b[0m\n\u001b[0;32m      6\u001b[0m \u001b[1;31m#     time.append(t)\u001b[0m\u001b[1;33m\u001b[0m\u001b[1;33m\u001b[0m\u001b[1;33m\u001b[0m\u001b[0m\n",
      "\u001b[1;31mIndexError\u001b[0m: index 5 is out of bounds for axis 0 with size 5"
     ]
    }
   ],
   "source": [
    "time = []\n",
    "for p in range(len(equation_inputs)):\n",
    "    for n in range(len(new_population[:,1][p])):\n",
    "        t = distance[p] / new_population[:,1][n][p]\n",
    "        print(t)\n",
    "#     time.append(t)\n",
    "# print(time)"
   ]
  },
  {
   "cell_type": "code",
   "execution_count": 177,
   "id": "02e682c2",
   "metadata": {},
   "outputs": [
    {
     "data": {
      "text/plain": [
       "array([5551.52])"
      ]
     },
     "execution_count": 177,
     "metadata": {},
     "output_type": "execute_result"
    }
   ],
   "source": [
    "distance[0]"
   ]
  },
  {
   "cell_type": "code",
   "execution_count": 182,
   "id": "131ca010",
   "metadata": {},
   "outputs": [
    {
     "data": {
      "text/plain": [
       "array([41., 39., 50., 57., 44., 34., 46., 53., 54.])"
      ]
     },
     "execution_count": 182,
     "metadata": {},
     "output_type": "execute_result"
    }
   ],
   "source": [
    "new_population[:,1][0]"
   ]
  },
  {
   "cell_type": "code",
   "execution_count": null,
   "id": "cc5130e9",
   "metadata": {},
   "outputs": [],
   "source": [
    "def calculate_trust(equation_inputs, pop):\n",
    "    \n",
    "    return"
   ]
  },
  {
   "cell_type": "code",
   "execution_count": 132,
   "id": "8bf76bac",
   "metadata": {},
   "outputs": [],
   "source": [
    "import numpy\n",
    "from sklearn.preprocessing import MinMaxScaler\n",
    "\n",
    "scaler = MinMaxScaler()\n",
    "\n",
    "def standard_deviation(equation_inputs, pop):\n",
    "    std = []\n",
    "    for s in range(len(pop)):\n",
    "        mean = sum(pop[:,0][s]) / len(pop)\n",
    "        print(mean)\n",
    "        var = ((sum(pop[:,0][s]) - mean)**2) / len(equation_inputs)\n",
    "        print(var)\n",
    "        std.append(var ** 0.5)\n",
    "    return std\n",
    "\n",
    "def calculate_distance(order, dist_x, dist_y):\n",
    "    distance = ((dist_x-order[1])**2 + (dist_y-order[2])**2 + (order[1]-order[4])**2 + (order[2]-order[5])**2) ** 0.5\n",
    "    distance = numpy.round(distance, 2)\n",
    "    distance = distance.reshape(-1,1)\n",
    "    return distance\n",
    "    # return scaler.fit_transform(distance)\n",
    "\n",
    "def calculate_time(order, dist_x, dist_y, speed, pop):\n",
    "    distance = calculate_distance(order, dist_x, dist_y)\n",
    "    time = []\n",
    "    for p in range(len(equation_inputs)):\n",
    "        t = distance[p] / new_population[:,p]\n",
    "        time.append(t)\n",
    "    return time\n",
    "\n",
    "\n",
    "\n",
    "def calculate_trust():\n",
    "    return #성공여부도 확률값 95% 0~1 randoms 0.95 작으면 성공\n",
    "\n",
    "# fitness = ga.cal_pop_fitness(equation_inputs, new_population)\n",
    "# def cal_pop_fitness(delivered_num, order, dist_x, dist_y, speed, pop):\n",
    "def cal_pop_fitness(delivered_num, order, dist_x, dist_y, pop):\n",
    "    std = standard_deviation(delivered_num,pop)\n",
    "    dist = calculate_distance(order, dist_x, dist_y)\n",
    "    # time = calculate_time(order, dist_x, dist_y, speed)\n",
    "    # trust = calculate_trust()\n",
    "# distance = calculate_distance(order, pop)\n",
    "# time = calculate_time(order,pop)\n",
    "    # Calculating the fitness value of each solution in the current population.\n",
    "    # The fitness function calulates the sum of products between each input and its corresponding weight.\n",
    "    fitness = 1/std + dist #/time #+ trust\n",
    "    # fitness = numpy.sum(pop*equation_inputs, axis=1)\n",
    "    return fitness"
   ]
  },
  {
   "cell_type": "code",
   "execution_count": null,
   "id": "f6d41c65",
   "metadata": {},
   "outputs": [],
   "source": []
  }
 ],
 "metadata": {
  "kernelspec": {
   "display_name": "soyeon",
   "language": "python",
   "name": "soyeon"
  },
  "language_info": {
   "codemirror_mode": {
    "name": "ipython",
    "version": 3
   },
   "file_extension": ".py",
   "mimetype": "text/x-python",
   "name": "python",
   "nbconvert_exporter": "python",
   "pygments_lexer": "ipython3",
   "version": "3.7.13"
  }
 },
 "nbformat": 4,
 "nbformat_minor": 5
}
