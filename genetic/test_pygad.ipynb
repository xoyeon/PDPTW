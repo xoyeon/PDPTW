{
 "cells": [
  {
   "cell_type": "code",
   "execution_count": 1,
   "id": "691ed06f",
   "metadata": {},
   "outputs": [
    {
     "name": "stdout",
     "output_type": "stream",
     "text": [
      "order ['r1', 8708, 5633, 'o1', 9131, 7497, 743, 753]\n",
      "근무중인 라이더 9 명\n"
     ]
    }
   ],
   "source": [
    "################### 데이터 불러오기\n",
    "import numpy\n",
    "import pandas as pd\n",
    "\n",
    "\"\"\"\n",
    "The y=target is to maximize this equation ASAP:\n",
    "    y = w1x1+w2x2+w3x3+w4x4+w5x5+6wx6\n",
    "    where (x1,x2,x3,x4,x5,x6)=(4,-2,3.5,5,-11,-4.7)\n",
    "    What are the best values for the 6 weights w1 to w6?\n",
    "    We are going to use the genetic algorithm for the best possible values after a number of generations.\n",
    "\"\"\"\n",
    "# data\n",
    "restaurants = pd.read_csv(\"https://raw.githubusercontent.com/xoyeon/PDPTW/main/grubhub/0o100t100s1p100/restaurants.txt\", sep = '\\t')\n",
    "orders = pd.read_csv(\"https://raw.githubusercontent.com/xoyeon/PDPTW/main/grubhub/0o100t100s1p100/orders.txt\", sep = '\\t')\n",
    "couriers = pd.read_csv(\"https://raw.githubusercontent.com/xoyeon/PDPTW/main/grubhub/0o100t100s1p100/couriers.txt\", sep = '\\t')\n",
    "rest_orders = pd.merge(restaurants, orders, how='inner', on=['restaurant'])\n",
    "rest_orders.columns = ['restaurant', 'rx', 'ry', 'order', 'ox', 'oy', 'placement_time', 'ready_time']\n",
    "\n",
    "# 주문 건\n",
    "order = rest_orders.sample(n=1).values\n",
    "order = ['r1',8708,5633,'o1',9131,7497,743,753]\n",
    "print(\"order\", order)\n",
    "# 근무중인 라이더\n",
    "rider = couriers[(couriers['on_time'] <= order[6]) & (couriers['off_time'] >= order[7])]\n",
    "data_len = len(rider)\n",
    "print(\"근무중인 라이더\", len(rider), \"명\")"
   ]
  },
  {
   "cell_type": "code",
   "execution_count": 11,
   "id": "6d8b56b1",
   "metadata": {
    "scrolled": false
   },
   "outputs": [
    {
     "name": "stdout",
     "output_type": "stream",
     "text": [
      "new_population [[   15    18    16    14    12    17    12    22    24]\n",
      " [ 3810  3217 11678  7651 10855  7038  5013  8236  4981]\n",
      " [ 7415  9891  3104  4332  7784  5694  2778  1518  4827]\n",
      " [  690   690   690   690   690   690   690   690   690]\n",
      " [  810   840   810   810   810   840   810   810   840]\n",
      " [   41    53    45    47    57    32    32    30    54]]\n",
      "pop_size (8, 9)\n"
     ]
    }
   ],
   "source": [
    "\"\"\"\n",
    "Genetic algorithm parameters:\n",
    "    Mating pool size\n",
    "    Population size\n",
    "\"\"\"\n",
    "# Defining the population size.\n",
    "num_generations = 50\n",
    "\n",
    "sol_per_pop = 8\n",
    "num_parents_mating = 6\n",
    "# weights = [0.1,0.3,0.5,0.7]\n",
    "\n",
    "numpy.random.seed(0)\n",
    "# Inputs of the equation. # 내가 업데이트 해야하는 값\n",
    "delivered_num = numpy.random.uniform(low=3, high=25, size=data_len).astype(int)\n",
    "dist_x = numpy.array(rider['x'])\n",
    "dist_y = numpy.array(rider['y'])\n",
    "on_time = numpy.array(rider['on_time'])\n",
    "off_time = numpy.array(rider['off_time'])\n",
    "speed = numpy.random.uniform(low=30, high=60, size=data_len).astype(int)\n",
    "\n",
    "new_population = numpy.stack((delivered_num, dist_x, dist_y, on_time, off_time, speed), axis=0)\n",
    "# equation_inputs = data[0]\n",
    "print(\"new_population\",new_population)\n",
    "\n",
    "# initialize population\n",
    "'''new_delivered_num = numpy.random.uniform(low=3, high=25, size=sol_per_pop).astype(int)\n",
    "new_dist_x = numpy.random.uniform(low=0, high=12555, size=sol_per_pop).astype(int)\n",
    "new_dist_y = numpy.random.uniform(low=0, high=11777, size=sol_per_pop).astype(int)\n",
    "new_on_time = numpy.full(sol_per_pop, numpy.unique(on_time)[0])\n",
    "new_off_time = numpy.full(sol_per_pop, numpy.unique(off_time)[0])\n",
    "new_speed = numpy.random.uniform(low=30, high=60, size=sol_per_pop).astype(int)\n",
    "\n",
    "new_population = numpy.stack((new_delivered_num, new_dist_x, new_dist_y, new_on_time, new_off_time, new_speed), axis=1)\n",
    "print(\"new_population\",new_population)'''\n",
    "\n",
    "# Number of the weights we are looking to optimize.\n",
    "num_weights = len(new_population[0])\n",
    "\n",
    "# The population will have sol_per_pop chromosome where each chromosome has num_weights genes.\n",
    "pop_size = (sol_per_pop,num_weights)\n",
    "print(\"pop_size\",pop_size)"
   ]
  },
  {
   "cell_type": "code",
   "execution_count": 38,
   "id": "f09d6085",
   "metadata": {},
   "outputs": [
    {
     "data": {
      "text/plain": [
       "(0, 12555)"
      ]
     },
     "execution_count": 38,
     "metadata": {},
     "output_type": "execute_result"
    }
   ],
   "source": [
    "min(couriers['x']),max(couriers['x'])"
   ]
  },
  {
   "cell_type": "code",
   "execution_count": 39,
   "id": "586a62c7",
   "metadata": {},
   "outputs": [
    {
     "data": {
      "text/plain": [
       "(0, 11777)"
      ]
     },
     "execution_count": 39,
     "metadata": {},
     "output_type": "execute_result"
    }
   ],
   "source": [
    "min(couriers['y']),max(couriers['y'])"
   ]
  },
  {
   "cell_type": "code",
   "execution_count": 10,
   "id": "2b9372bf",
   "metadata": {},
   "outputs": [
    {
     "data": {
      "text/plain": [
       "array([15, 18, 16, 14, 12, 17, 12, 22, 24])"
      ]
     },
     "execution_count": 10,
     "metadata": {},
     "output_type": "execute_result"
    }
   ],
   "source": [
    "delivered_num`"
   ]
  },
  {
   "cell_type": "code",
   "execution_count": 3,
   "id": "521d6a96",
   "metadata": {},
   "outputs": [
    {
     "name": "stdout",
     "output_type": "stream",
     "text": [
      "[11.00550848 11.30488659 11.10023138 11.13473557 11.31313505 10.80959689\n",
      " 10.7491996  10.72077784 11.33510438]\n"
     ]
    }
   ],
   "source": [
    "############## stack = 1\n",
    "import numpy\n",
    "\n",
    "def standard_deviation(pop):\n",
    "    return numpy.std(pop[:,0])\n",
    "\n",
    "def calculate_speed(pop):\n",
    "    speed = pop[:,5]\n",
    "    return speed\n",
    "\n",
    "def calculate_trust(pop):\n",
    "    # 배달원의 총 배달 시간 / 배달 건 수\n",
    "    trust = pop[:,4]-pop[:,3] / pop[:,0]\n",
    "    return trust\n",
    "    \n",
    "# Calculating the fitness value of each solution in the current population.\n",
    "# The fitness function calulates the sum of products between each input and its corresponding weight.\n",
    "\n",
    "def cal_pop_fitness(pop):\n",
    "    std = standard_deviation(pop)\n",
    "    speed = calculate_speed(pop)\n",
    "    trust = calculate_trust(pop)\n",
    "    \n",
    "    log_std = numpy.log1p(std)\n",
    "    log_speed = numpy.log1p(speed)\n",
    "    log_trust = numpy.log1p(trust)\n",
    "    return 1/log_std + log_speed +log_trust\n",
    "\n",
    "def select_mating_pool(pop, fitness, num_parents):\n",
    "    # Selecting the best individuals in the current generation as parents for producing the offspring of the next generation.\n",
    "    parents = numpy.empty((num_parents, pop.shape[1]))\n",
    "    for parent_num in range(num_parents):\n",
    "        max_fitness_idx = numpy.where(fitness == numpy.max(fitness))\n",
    "        max_fitness_idx = max_fitness_idx[0][0]\n",
    "        parents[parent_num, :] = pop[max_fitness_idx, :]\n",
    "        fitness[max_fitness_idx] = -99999999999\n",
    "    return parents\n",
    "\n",
    "def crossover(parents, offspring_size):\n",
    "    offspring = numpy.empty(offspring_size)\n",
    "    # The point at which crossover takes place between two parents. Usually, it is at the center.\n",
    "    crossover_point = numpy.uint8(offspring_size[1]/2)\n",
    "\n",
    "    for k in range(offspring_size[0]):\n",
    "        # Index of the first parent to mate.\n",
    "        parent1_idx = k%parents.shape[0]\n",
    "        # Index of the second parent to mate.\n",
    "        parent2_idx = (k+1)%parents.shape[0]\n",
    "        # The new offspring will have its first half of its genes taken from the first parent.\n",
    "        offspring[k, 0:crossover_point] = parents[parent1_idx, 0:crossover_point]\n",
    "        # The new offspring will have its second half of its genes taken from the second parent.\n",
    "        offspring[k, crossover_point:] = parents[parent2_idx, crossover_point:]\n",
    "    return offspring\n",
    "\n",
    "def mutation(offspring_crossover, num_mutations=1):\n",
    "    mutations_counter = numpy.uint8(offspring_crossover.shape[1] / num_mutations)\n",
    "    # Mutation changes a number of genes as defined by the num_mutations argument. The changes are random.\n",
    "    for idx in range(offspring_crossover.shape[0]):\n",
    "        gene_idx = mutations_counter - 1\n",
    "        for mutation_num in range(num_mutations):\n",
    "            # The random value to be added to the gene.\n",
    "            random_value = numpy.random.uniform(-1.0, 1.0, 1)\n",
    "            offspring_crossover[idx, gene_idx] = offspring_crossover[idx, gene_idx] + random_value\n",
    "            gene_idx = gene_idx + mutations_counter\n",
    "    return offspring_crossover\n",
    "\n",
    "print(cal_pop_fitness(new_population))"
   ]
  },
  {
   "cell_type": "code",
   "execution_count": 4,
   "id": "140b380e",
   "metadata": {},
   "outputs": [
    {
     "name": "stdout",
     "output_type": "stream",
     "text": [
      "Generation :  0\n",
      "Fitness\n",
      "[11.00550848 11.30488659 11.10023138 11.13473557 11.31313505 10.80959689\n",
      " 10.7491996  10.72077784 11.33510438]\n",
      "Best result :  11.335104384746167\n",
      "Parents\n",
      "[[   24.  4981.  4827.   690.   840.    54.]\n",
      " [   12. 10855.  7784.   690.   810.    57.]\n",
      " [   18.  3217.  9891.   690.   840.    53.]\n",
      " [   14.  7651.  4332.   690.   810.    47.]\n",
      " [   16. 11678.  3104.   690.   810.    45.]\n",
      " [   15.  3810.  7415.   690.   810.    41.]]\n",
      "Crossover\n",
      "[[   24.  4981.  4827.   690.   810.    57.]\n",
      " [   12. 10855.  7784.   690.   840.    53.]]\n",
      "Mutation\n",
      "[[   24.          4981.          4827.5563135    690.\n",
      "    810.            57.7400243 ]\n",
      " [   12.         10855.          7784.95723668   690.\n",
      "    840.            53.59831713]]\n"
     ]
    },
    {
     "ename": "ValueError",
     "evalue": "could not broadcast input array from shape (2,6) into shape (3,6)",
     "output_type": "error",
     "traceback": [
      "\u001b[1;31m---------------------------------------------------------------------------\u001b[0m",
      "\u001b[1;31mValueError\u001b[0m                                Traceback (most recent call last)",
      "\u001b[1;32m~\\AppData\\Local\\Temp\\ipykernel_21524\\2804229962.py\u001b[0m in \u001b[0;36m<module>\u001b[1;34m\u001b[0m\n\u001b[0;32m     33\u001b[0m     \u001b[1;31m# Creating the new population based on the parents and offspring.\u001b[0m\u001b[1;33m\u001b[0m\u001b[1;33m\u001b[0m\u001b[1;33m\u001b[0m\u001b[0m\n\u001b[0;32m     34\u001b[0m     \u001b[0mnew_population\u001b[0m\u001b[1;33m[\u001b[0m\u001b[1;36m0\u001b[0m\u001b[1;33m:\u001b[0m\u001b[0mparents\u001b[0m\u001b[1;33m.\u001b[0m\u001b[0mshape\u001b[0m\u001b[1;33m[\u001b[0m\u001b[1;36m0\u001b[0m\u001b[1;33m]\u001b[0m\u001b[1;33m,\u001b[0m \u001b[1;33m:\u001b[0m\u001b[1;33m]\u001b[0m \u001b[1;33m=\u001b[0m \u001b[0mparents\u001b[0m\u001b[1;33m\u001b[0m\u001b[1;33m\u001b[0m\u001b[0m\n\u001b[1;32m---> 35\u001b[1;33m     \u001b[0mnew_population\u001b[0m\u001b[1;33m[\u001b[0m\u001b[0mparents\u001b[0m\u001b[1;33m.\u001b[0m\u001b[0mshape\u001b[0m\u001b[1;33m[\u001b[0m\u001b[1;36m0\u001b[0m\u001b[1;33m]\u001b[0m\u001b[1;33m:\u001b[0m\u001b[1;33m,\u001b[0m \u001b[1;33m:\u001b[0m\u001b[1;33m]\u001b[0m \u001b[1;33m=\u001b[0m \u001b[0moffspring_mutation\u001b[0m\u001b[1;33m\u001b[0m\u001b[1;33m\u001b[0m\u001b[0m\n\u001b[0m\u001b[0;32m     36\u001b[0m \u001b[1;33m\u001b[0m\u001b[0m\n\u001b[0;32m     37\u001b[0m \u001b[1;31m# Getting the best solution after iterating finishing all generations.\u001b[0m\u001b[1;33m\u001b[0m\u001b[1;33m\u001b[0m\u001b[1;33m\u001b[0m\u001b[0m\n",
      "\u001b[1;31mValueError\u001b[0m: could not broadcast input array from shape (2,6) into shape (3,6)"
     ]
    }
   ],
   "source": [
    "########### Genetic Algoritm ###########\n",
    "\n",
    "best_outputs = []\n",
    "# num_generations = 500\n",
    "for generation in range(num_generations):\n",
    "    print(\"Generation : \", generation)\n",
    "    # Measuring the fitness of each chromosome in the population.\n",
    "    fitness = cal_pop_fitness(new_population)\n",
    "    print(\"Fitness\")\n",
    "    print(fitness)\n",
    "\n",
    "    best_outputs.append(numpy.max(fitness))\n",
    "    # The best result in the current iteration.\n",
    "    print(\"Best result : \", numpy.max(fitness))\n",
    "    \n",
    "    # Selecting the best parents in the population for mating.\n",
    "    parents = select_mating_pool(new_population, fitness, \n",
    "                                      num_parents_mating)\n",
    "    print(\"Parents\")\n",
    "    print(parents)\n",
    "\n",
    "    # Generating next generation using crossover.\n",
    "    offspring_crossover = crossover(parents, offspring_size=(sol_per_pop-parents.shape[0], num_weights))\n",
    "                                    # offspring_size=(pop_size[0]-parents.shape[0], num_weights)) \n",
    "    print(\"Crossover\")\n",
    "    print(offspring_crossover)\n",
    "\n",
    "    # Adding some variations to the offspring using mutation.\n",
    "    offspring_mutation = mutation(offspring_crossover, num_mutations=2)\n",
    "    print(\"Mutation\")\n",
    "    print(offspring_mutation)\n",
    "\n",
    "    # Creating the new population based on the parents and offspring.\n",
    "    new_population[0:parents.shape[0], :] = parents\n",
    "    new_population[parents.shape[0]:, :] = offspring_mutation\n",
    "    \n",
    "# Getting the best solution after iterating finishing all generations.\n",
    "#At first, the fitness is calculated for each solution in the final generation.\n",
    "fitness = cal_pop_fitness(new_population)\n",
    "# Then return the index of that solution corresponding to the best fitness.\n",
    "best_match_idx = numpy.where(fitness == numpy.max(fitness))\n",
    "\n",
    "print(\"Best solution : \", new_population[best_match_idx, :])\n",
    "print(\"Best solution fitness : \", fitness[best_match_idx])\n",
    "\n",
    "\n",
    "import matplotlib.pyplot\n",
    "matplotlib.pyplot.plot(best_outputs)\n",
    "matplotlib.pyplot.xlabel(\"Iteration\")\n",
    "matplotlib.pyplot.ylabel(\"Fitness\")\n",
    "matplotlib.pyplot.show()"
   ]
  },
  {
   "cell_type": "code",
   "execution_count": 32,
   "id": "8825ebfd",
   "metadata": {},
   "outputs": [],
   "source": [
    "function_inputs = numpy.array([[15, 18, 16, 14, 12, 17, 12, 22, 24],\n",
    "                   [3810, 3217, 11678, 7651, 10855, 7038, 5013, 8236, 4981],\n",
    "                   [7415, 9891, 3104, 4332, 7784, 5694, 2778, 1518, 4827],\n",
    "                   [690, 690, 690, 690, 690, 690, 690, 690, 690],\n",
    "                   [810, 840, 810, 810, 810, 840, 810, 810, 840],\n",
    "                   [41, 53,  45, 47, 57, 32, 32, 30, 54]]) # Function inputs.\n",
    "# desired_output = 44 # Function output.\n",
    "\n",
    "# def fitness_func(solution, solution_idx):\n",
    "#     solution = solution.reshape(len(function_inputs),len(function_inputs[0]))\n",
    "   \n",
    "std = numpy.std(function_inputs[0])\n",
    "log_std = numpy.log1p(std)\n",
    "\n",
    "speed = function_inputs[5]\n",
    "sc_speed = ((speed - min(speed)) / (max(speed) - min(speed)))\n",
    "\n",
    "trust = (function_inputs[4]- function_inputs[3]) / function_inputs[0]\n",
    "sc_trust = ((trust - min(trust)) / (max(trust) - min(trust)))"
   ]
  },
  {
   "cell_type": "code",
   "execution_count": 33,
   "id": "0ee96f34",
   "metadata": {},
   "outputs": [
    {
     "data": {
      "text/plain": [
       "1.5924504473118544"
      ]
     },
     "execution_count": 33,
     "metadata": {},
     "output_type": "execute_result"
    }
   ],
   "source": [
    "log_std"
   ]
  },
  {
   "cell_type": "code",
   "execution_count": 34,
   "id": "0f89ac81",
   "metadata": {},
   "outputs": [
    {
     "data": {
      "text/plain": [
       "array([0.40740741, 0.85185185, 0.55555556, 0.62962963, 1.        ,\n",
       "       0.07407407, 0.07407407, 0.        , 0.88888889])"
      ]
     },
     "execution_count": 34,
     "metadata": {},
     "output_type": "execute_result"
    }
   ],
   "source": [
    "sc_speed"
   ]
  },
  {
   "cell_type": "code",
   "execution_count": 35,
   "id": "c7028e45",
   "metadata": {},
   "outputs": [
    {
     "data": {
      "text/plain": [
       "array([0.56      , 0.63333333, 0.45      , 0.68571429, 1.        ,\n",
       "       0.74117647, 1.        , 0.        , 0.175     ])"
      ]
     },
     "execution_count": 35,
     "metadata": {},
     "output_type": "execute_result"
    }
   ],
   "source": [
    "sc_trust"
   ]
  },
  {
   "cell_type": "code",
   "execution_count": 36,
   "id": "9b389bbc",
   "metadata": {},
   "outputs": [
    {
     "data": {
      "text/plain": [
       "array([1.59537043, 2.11314821, 1.63351858, 1.94330694, 2.62796302,\n",
       "       1.44321357, 1.7020371 , 0.62796302, 1.69185191])"
      ]
     },
     "execution_count": 36,
     "metadata": {},
     "output_type": "execute_result"
    }
   ],
   "source": [
    "1/log_std + sc_speed + sc_trust"
   ]
  },
  {
   "cell_type": "code",
   "execution_count": 21,
   "id": "6280170b",
   "metadata": {},
   "outputs": [],
   "source": [
    "function_inputs = numpy.array([[15, 18, 16, 14, 12, 17, 12, 22, 24],\n",
    "                   [3810, 3217, 11678, 7651, 10855, 7038, 5013, 8236, 4981],\n",
    "                   [7415, 9891, 3104, 4332, 7784, 5694, 2778, 1518, 4827],\n",
    "                   [690, 690, 690, 690, 690, 690, 690, 690, 690],\n",
    "                   [810, 840, 810, 810, 810, 840, 810, 810, 840],\n",
    "                   [41, 53,  45, 47, 57, 32, 32, 30, 54]])"
   ]
  },
  {
   "cell_type": "code",
   "execution_count": 22,
   "id": "c94564e3",
   "metadata": {},
   "outputs": [
    {
     "data": {
      "text/plain": [
       "array([1.59537043, 2.11314821, 1.63351858, 1.94330694, 2.62796302,\n",
       "       1.44321357, 1.7020371 , 0.62796302, 1.69185191])"
      ]
     },
     "execution_count": 22,
     "metadata": {},
     "output_type": "execute_result"
    }
   ],
   "source": [
    "sum_fit = 0 \n",
    "std = numpy.std(function_inputs[0])\n",
    "log_std = numpy.log1p(std)\n",
    "\n",
    "speed = function_inputs[5]\n",
    "sc_speed = ((speed - min(speed)) / (max(speed) - min(speed)))\n",
    "\n",
    "trust = (function_inputs[4]- function_inputs[3]) / function_inputs[0]\n",
    "sc_trust = ((trust - min(trust)) / (max(trust) - min(trust)))\n",
    "\n",
    "# Calculating the fitness value of each solution in the current population.\n",
    "# The fitness function calulates the sum of products between each input and its corresponding weight.\n",
    "#     output = numpy.sum(solution*function_inputs)\n",
    "#     fitness = 1.0 / numpy.abs(output - desired_output)\n",
    "sum_fit += 1/log_std + sc_speed + sc_trust\n",
    "sum_fit"
   ]
  },
  {
   "cell_type": "code",
   "execution_count": null,
   "id": "1dc49c85",
   "metadata": {},
   "outputs": [],
   "source": []
  }
 ],
 "metadata": {
  "kernelspec": {
   "display_name": "soyeon",
   "language": "python",
   "name": "soyeon"
  },
  "language_info": {
   "codemirror_mode": {
    "name": "ipython",
    "version": 3
   },
   "file_extension": ".py",
   "mimetype": "text/x-python",
   "name": "python",
   "nbconvert_exporter": "python",
   "pygments_lexer": "ipython3",
   "version": "3.7.13"
  }
 },
 "nbformat": 4,
 "nbformat_minor": 5
}
