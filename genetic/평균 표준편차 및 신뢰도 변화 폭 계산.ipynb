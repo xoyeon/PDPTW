{
 "cells": [
  {
   "cell_type": "code",
   "execution_count": 1,
   "id": "daca1d6d",
   "metadata": {},
   "outputs": [],
   "source": [
    "import numpy as np"
   ]
  },
  {
   "cell_type": "code",
   "execution_count": 2,
   "id": "f523fd38",
   "metadata": {},
   "outputs": [],
   "source": [
    "std_group1 = [(0,0,0,0,0,0,0,0),\n",
    "              (1.7831,2.5786,3.2999,3.8594,3.8362,4.8754,4.4340,5.2014)]\n",
    "std_group2 = [(0,0,0,0,0,0,0,0),\n",
    "               (1.6021,1.9993,2.9690,3.2600,3.5370,4.0920,4.4365,3.9628)]\n",
    "std_group3 = [(0,0,0,0,0,0,0,0),\n",
    "              (0.0628,0.0362,0.0317,0.0195,0.0179,0.0197,0.0133,0.0136)]"
   ]
  },
  {
   "cell_type": "code",
   "execution_count": 8,
   "id": "a1379756",
   "metadata": {},
   "outputs": [
    {
     "data": {
      "text/plain": [
       "3.7335000000000003"
      ]
     },
     "execution_count": 8,
     "metadata": {},
     "output_type": "execute_result"
    }
   ],
   "source": [
    "np.mean(std_group1[1])"
   ]
  },
  {
   "cell_type": "code",
   "execution_count": 12,
   "id": "7d612b50",
   "metadata": {},
   "outputs": [
    {
     "data": {
      "text/plain": [
       "3.2323375"
      ]
     },
     "execution_count": 12,
     "metadata": {},
     "output_type": "execute_result"
    }
   ],
   "source": [
    "np.mean(std_group2[1])"
   ]
  },
  {
   "cell_type": "code",
   "execution_count": 11,
   "id": "5ce323b2",
   "metadata": {},
   "outputs": [
    {
     "data": {
      "text/plain": [
       "0.0268375"
      ]
     },
     "execution_count": 11,
     "metadata": {},
     "output_type": "execute_result"
    }
   ],
   "source": [
    "np.mean(std_group3[1])"
   ]
  },
  {
   "cell_type": "code",
   "execution_count": 13,
   "id": "6eeef29a",
   "metadata": {},
   "outputs": [],
   "source": [
    "q1 = [0.25,0.04,0.36,0.08,0.05,0.50,0.60,0.65]\n",
    "q2 = [0.21,0.18,0.34,0.02,0.14,0.04,0.19,0.29]\n",
    "q3 = [0.24,0.35,0.32,0.31,0.33,0.29,0.28,0.26]"
   ]
  },
  {
   "cell_type": "code",
   "execution_count": 17,
   "id": "7f2552a3",
   "metadata": {},
   "outputs": [
    {
     "data": {
      "text/plain": [
       "0.61"
      ]
     },
     "execution_count": 17,
     "metadata": {},
     "output_type": "execute_result"
    }
   ],
   "source": [
    "np.max(q1)-np.min(q1)"
   ]
  },
  {
   "cell_type": "code",
   "execution_count": 19,
   "id": "3fc5dd07",
   "metadata": {},
   "outputs": [
    {
     "data": {
      "text/plain": [
       "0.32"
      ]
     },
     "execution_count": 19,
     "metadata": {},
     "output_type": "execute_result"
    }
   ],
   "source": [
    "np.max(q2)-np.min(q2)"
   ]
  },
  {
   "cell_type": "code",
   "execution_count": 18,
   "id": "0581689d",
   "metadata": {},
   "outputs": [
    {
     "data": {
      "text/plain": [
       "0.10999999999999999"
      ]
     },
     "execution_count": 18,
     "metadata": {},
     "output_type": "execute_result"
    }
   ],
   "source": [
    "np.max(q3)-np.min(q3)"
   ]
  },
  {
   "cell_type": "code",
   "execution_count": null,
   "id": "e89dfb38",
   "metadata": {},
   "outputs": [],
   "source": []
  }
 ],
 "metadata": {
  "kernelspec": {
   "display_name": "soyeon",
   "language": "python",
   "name": "soyeon"
  },
  "language_info": {
   "codemirror_mode": {
    "name": "ipython",
    "version": 3
   },
   "file_extension": ".py",
   "mimetype": "text/x-python",
   "name": "python",
   "nbconvert_exporter": "python",
   "pygments_lexer": "ipython3",
   "version": "3.7.13"
  }
 },
 "nbformat": 4,
 "nbformat_minor": 5
}
