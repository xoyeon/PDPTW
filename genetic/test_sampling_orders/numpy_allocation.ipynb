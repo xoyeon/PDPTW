{
 "cells": [
  {
   "cell_type": "code",
   "execution_count": 1,
   "id": "c322dc03",
   "metadata": {},
   "outputs": [],
   "source": [
    "import numpy as np\n",
    "import pandas as pd\n",
    "\n",
    "restaurants = pd.read_csv(\"https://raw.githubusercontent.com/xoyeon/PDPTW/main/grubhub/0o100t100s1p100/restaurants.txt\", sep = '\\t')\n",
    "orders = pd.read_csv(\"https://raw.githubusercontent.com/xoyeon/PDPTW/main/grubhub/0o100t100s1p100/orders.txt\", sep = '\\t')\n",
    "couriers = pd.read_csv(\"https://raw.githubusercontent.com/xoyeon/PDPTW/main/grubhub/0o100t100s1p100/couriers.txt\", sep = '\\t')"
   ]
  },
  {
   "cell_type": "code",
   "execution_count": 2,
   "id": "310f9a25",
   "metadata": {},
   "outputs": [],
   "source": [
    "r = restaurants.to_numpy()\n",
    "o = orders.to_numpy()\n",
    "c = couriers.to_numpy()"
   ]
  },
  {
   "cell_type": "markdown",
   "id": "6d815bcf",
   "metadata": {},
   "source": [
    "## Orders"
   ]
  },
  {
   "cell_type": "code",
   "execution_count": 3,
   "id": "19a554aa",
   "metadata": {},
   "outputs": [
    {
     "data": {
      "text/plain": [
       "array([['o228', 7497, 6507, 633, 'r85', 643],\n",
       "       ['o392', 2189, 7307, 621, 'r78', 633],\n",
       "       ['o306', 3960, 8075, 4, 'r99', 11],\n",
       "       ['o324', 6660, 7751, 603, 'r28', 617],\n",
       "       ['o239', 5908, 7070, 715, 'r90', 728],\n",
       "       ['o93', 6105, 6712, 168, 'r37', 173],\n",
       "       ['o347', 11318, 7860, 635, 'r101', 642],\n",
       "       ['o67', 9673, 7322, 619, 'r41', 633],\n",
       "       ['o424', 6531, 5878, 558, 'r8', 571],\n",
       "       ['o226', 8257, 7638, 102, 'r1', 112]], dtype=object)"
      ]
     },
     "execution_count": 3,
     "metadata": {},
     "output_type": "execute_result"
    }
   ],
   "source": [
    "order = o[np.random.choice(len(o), size = 10, replace=False)]\n",
    "order"
   ]
  },
  {
   "cell_type": "code",
   "execution_count": 4,
   "id": "b51b42b0",
   "metadata": {},
   "outputs": [],
   "source": [
    "o1,o2,o3,o4,o5,o6,o7,o8,o9,o10 = order"
   ]
  },
  {
   "cell_type": "markdown",
   "id": "9f05492f",
   "metadata": {},
   "source": [
    "## Restaurants"
   ]
  },
  {
   "cell_type": "code",
   "execution_count": 5,
   "id": "9e689f6f",
   "metadata": {},
   "outputs": [
    {
     "name": "stdout",
     "output_type": "stream",
     "text": [
      "[array([['r85', 7999, 9315]], dtype=object), array([['r78', 5123, 7297]], dtype=object), array([['r99', 6926, 9539]], dtype=object), array([['r28', 9229, 7943]], dtype=object), array([['r90', 9251, 7779]], dtype=object), array([['r37', 9751, 9370]], dtype=object), array([['r101', 11621, 3010]], dtype=object), array([['r41', 5199, 7276]], dtype=object), array([['r8', 6461, 6158]], dtype=object), array([['r1', 8708, 5633]], dtype=object)]\n"
     ]
    }
   ],
   "source": [
    "restaurant = []\n",
    "for i in range(len(order)):\n",
    "    rr = r[r[:,0] == order[i][4]]\n",
    "    restaurant.append(rr)\n",
    "    \n",
    "print(restaurant)"
   ]
  },
  {
   "cell_type": "code",
   "execution_count": 6,
   "id": "d3cbde7d",
   "metadata": {},
   "outputs": [],
   "source": [
    "r1,r2,r3,r4,r5,r6,r7,r8,r9,r10 = restaurant"
   ]
  },
  {
   "cell_type": "markdown",
   "id": "8346750f",
   "metadata": {},
   "source": [
    "## Couriers"
   ]
  },
  {
   "cell_type": "markdown",
   "id": "b2a684b9",
   "metadata": {},
   "source": [
    "courier = couriers[(couriers['on_time'] <= order['placement_time']) & (couriers['off_time'] >= order['ready_time'])]"
   ]
  },
  {
   "cell_type": "code",
   "execution_count": 12,
   "id": "b83b0484",
   "metadata": {
    "scrolled": true
   },
   "outputs": [
    {
     "name": "stdout",
     "output_type": "stream",
     "text": [
      "[array([['c52', 9632, 8252, 450, 645],\n",
      "       ['c67', 12394, 4899, 510, 690],\n",
      "       ['c68', 5763, 9892, 510, 690],\n",
      "       ['c69', 616, 9323, 510, 690],\n",
      "       ['c70', 12519, 5630, 510, 690],\n",
      "       ['c71', 8103, 10376, 510, 690],\n",
      "       ['c72', 12510, 5556, 510, 690],\n",
      "       ['c73', 4466, 4292, 510, 690],\n",
      "       ['c74', 12343, 4692, 510, 690],\n",
      "       ['c75', 12170, 4146, 510, 690],\n",
      "       ['c76', 8955, 669, 510, 690],\n",
      "       ['c77', 2984, 10794, 510, 690],\n",
      "       ['c78', 3097, 10033, 510, 690],\n",
      "       ['c79', 5784, 3, 510, 690],\n",
      "       ['c80', 4354, 317, 510, 690],\n",
      "       ['c82', 12513, 5578, 510, 690],\n",
      "       ['c83', 5503, 1889, 510, 690],\n",
      "       ['c84', 5113, 3025, 510, 690],\n",
      "       ['c85', 11338, 2588, 510, 690],\n",
      "       ['c86', 983, 4340, 510, 690],\n",
      "       ['c88', 1942, 9502, 510, 690],\n",
      "       ['c90', 8098, 4067, 510, 690],\n",
      "       ['c91', 2297, 5297, 510, 690],\n",
      "       ['c92', 11352, 2606, 510, 690],\n",
      "       ['c93', 4340, 10009, 630, 750],\n",
      "       ['c94', 11639, 3039, 630, 750],\n",
      "       ['c95', 7711, 7058, 630, 750],\n",
      "       ['c96', 4642, 6358, 630, 750],\n",
      "       ['c97', 6836, 3520, 630, 750],\n",
      "       ['c98', 5331, 11095, 630, 750],\n",
      "       ['c99', 2361, 1278, 630, 702],\n",
      "       ['c100', 8147, 7429, 630, 750],\n",
      "       ['c101', 2670, 9135, 630, 750],\n",
      "       ['c102', 415, 8926, 630, 750],\n",
      "       ['c103', 3899, 6292, 630, 750],\n",
      "       ['c104', 3823, 1930, 630, 750]], dtype=object), array([['c52', 9632, 8252, 450, 645],\n",
      "       ['c67', 12394, 4899, 510, 690],\n",
      "       ['c68', 5763, 9892, 510, 690],\n",
      "       ['c69', 616, 9323, 510, 690],\n",
      "       ['c70', 12519, 5630, 510, 690],\n",
      "       ['c71', 8103, 10376, 510, 690],\n",
      "       ['c72', 12510, 5556, 510, 690],\n",
      "       ['c73', 4466, 4292, 510, 690],\n",
      "       ['c74', 12343, 4692, 510, 690],\n",
      "       ['c75', 12170, 4146, 510, 690],\n",
      "       ['c76', 8955, 669, 510, 690],\n",
      "       ['c77', 2984, 10794, 510, 690],\n",
      "       ['c78', 3097, 10033, 510, 690],\n",
      "       ['c79', 5784, 3, 510, 690],\n",
      "       ['c80', 4354, 317, 510, 690],\n",
      "       ['c82', 12513, 5578, 510, 690],\n",
      "       ['c83', 5503, 1889, 510, 690],\n",
      "       ['c84', 5113, 3025, 510, 690],\n",
      "       ['c85', 11338, 2588, 510, 690],\n",
      "       ['c86', 983, 4340, 510, 690],\n",
      "       ['c88', 1942, 9502, 510, 690],\n",
      "       ['c90', 8098, 4067, 510, 690],\n",
      "       ['c91', 2297, 5297, 510, 690],\n",
      "       ['c92', 11352, 2606, 510, 690]], dtype=object), array([['c1', 11491, 2806, 0, 90],\n",
      "       ['c2', 7950, 223, 0, 90]], dtype=object), array([['c42', 3461, 6279, 450, 630],\n",
      "       ['c43', 6471, 4531, 450, 630],\n",
      "       ['c44', 1801, 2648, 450, 630],\n",
      "       ['c45', 6046, 4861, 450, 630],\n",
      "       ['c46', 5806, 11777, 450, 630],\n",
      "       ['c47', 12555, 6153, 450, 630],\n",
      "       ['c48', 5832, 3054, 450, 630],\n",
      "       ['c49', 2093, 5394, 450, 630],\n",
      "       ['c50', 3666, 10812, 450, 630],\n",
      "       ['c51', 9123, 688, 450, 630],\n",
      "       ['c52', 9632, 8252, 450, 645],\n",
      "       ['c53', 11235, 2450, 450, 630],\n",
      "       ['c54', 9859, 1134, 450, 630],\n",
      "       ['c55', 12039, 3816, 450, 630],\n",
      "       ['c56', 4803, 4723, 450, 630],\n",
      "       ['c57', 9674, 2063, 450, 630],\n",
      "       ['c58', 2808, 7200, 450, 630],\n",
      "       ['c59', 11415, 2695, 450, 630],\n",
      "       ['c60', 7519, 117, 450, 630],\n",
      "       ['c61', 10157, 8792, 450, 630],\n",
      "       ['c62', 3088, 7823, 450, 630],\n",
      "       ['c63', 8144, 11395, 450, 630],\n",
      "       ['c64', 5456, 94, 450, 630],\n",
      "       ['c65', 3154, 7997, 450, 630],\n",
      "       ['c66', 5354, 1159, 510, 630],\n",
      "       ['c67', 12394, 4899, 510, 690],\n",
      "       ['c68', 5763, 9892, 510, 690],\n",
      "       ['c69', 616, 9323, 510, 690],\n",
      "       ['c70', 12519, 5630, 510, 690],\n",
      "       ['c71', 8103, 10376, 510, 690],\n",
      "       ['c72', 12510, 5556, 510, 690],\n",
      "       ['c73', 4466, 4292, 510, 690],\n",
      "       ['c74', 12343, 4692, 510, 690],\n",
      "       ['c75', 12170, 4146, 510, 690],\n",
      "       ['c76', 8955, 669, 510, 690],\n",
      "       ['c77', 2984, 10794, 510, 690],\n",
      "       ['c78', 3097, 10033, 510, 690],\n",
      "       ['c79', 5784, 3, 510, 690],\n",
      "       ['c80', 4354, 317, 510, 690],\n",
      "       ['c81', 9110, 5697, 510, 630],\n",
      "       ['c82', 12513, 5578, 510, 690],\n",
      "       ['c83', 5503, 1889, 510, 690],\n",
      "       ['c84', 5113, 3025, 510, 690],\n",
      "       ['c85', 11338, 2588, 510, 690],\n",
      "       ['c86', 983, 4340, 510, 690],\n",
      "       ['c87', 3791, 10253, 510, 630],\n",
      "       ['c88', 1942, 9502, 510, 690],\n",
      "       ['c89', 9977, 1219, 510, 630],\n",
      "       ['c90', 8098, 4067, 510, 690],\n",
      "       ['c91', 2297, 5297, 510, 690],\n",
      "       ['c92', 11352, 2606, 510, 690]], dtype=object), array([['c93', 4340, 10009, 630, 750],\n",
      "       ['c94', 11639, 3039, 630, 750],\n",
      "       ['c95', 7711, 7058, 630, 750],\n",
      "       ['c96', 4642, 6358, 630, 750],\n",
      "       ['c97', 6836, 3520, 630, 750],\n",
      "       ['c98', 5331, 11095, 630, 750],\n",
      "       ['c100', 8147, 7429, 630, 750],\n",
      "       ['c101', 2670, 9135, 630, 750],\n",
      "       ['c102', 415, 8926, 630, 750],\n",
      "       ['c103', 3899, 6292, 630, 750],\n",
      "       ['c104', 3823, 1930, 630, 750],\n",
      "       ['c105', 3810, 7415, 690, 810],\n",
      "       ['c106', 3217, 9891, 690, 840],\n",
      "       ['c107', 11678, 3104, 690, 810],\n",
      "       ['c108', 7651, 4332, 690, 810],\n",
      "       ['c109', 10855, 7784, 690, 810],\n",
      "       ['c110', 7038, 5694, 690, 840],\n",
      "       ['c111', 5013, 2778, 690, 810],\n",
      "       ['c112', 8236, 1518, 690, 810],\n",
      "       ['c113', 4981, 4827, 690, 840]], dtype=object), array([['c3', 2818, 10568, 30, 210],\n",
      "       ['c4', 12413, 7222, 90, 270],\n",
      "       ['c5', 3572, 3264, 90, 270],\n",
      "       ['c6', 9104, 10812, 90, 270],\n",
      "       ['c7', 9135, 2795, 90, 270],\n",
      "       ['c8', 6152, 483, 90, 270],\n",
      "       ['c9', 0, 7262, 90, 270],\n",
      "       ['c10', 10640, 1782, 90, 210],\n",
      "       ['c11', 12054, 3851, 90, 270],\n",
      "       ['c12', 1665, 6706, 90, 210],\n",
      "       ['c13', 10821, 1966, 90, 270],\n",
      "       ['c14', 9792, 1088, 90, 270],\n",
      "       ['c15', 7996, 237, 90, 270],\n",
      "       ['c16', 6406, 5207, 90, 270],\n",
      "       ['c17', 3742, 7596, 90, 270],\n",
      "       ['c18', 6541, 4301, 90, 270],\n",
      "       ['c19', 3502, 10823, 90, 270],\n",
      "       ['c20', 7691, 7328, 90, 270],\n",
      "       ['c21', 1819, 6723, 90, 270],\n",
      "       ['c22', 9556, 7777, 90, 293],\n",
      "       ['c23', 12346, 4705, 90, 270],\n",
      "       ['c24', 5028, 9204, 90, 270],\n",
      "       ['c25', 7888, 206, 90, 270]], dtype=object), array([['c52', 9632, 8252, 450, 645],\n",
      "       ['c67', 12394, 4899, 510, 690],\n",
      "       ['c68', 5763, 9892, 510, 690],\n",
      "       ['c69', 616, 9323, 510, 690],\n",
      "       ['c70', 12519, 5630, 510, 690],\n",
      "       ['c71', 8103, 10376, 510, 690],\n",
      "       ['c72', 12510, 5556, 510, 690],\n",
      "       ['c73', 4466, 4292, 510, 690],\n",
      "       ['c74', 12343, 4692, 510, 690],\n",
      "       ['c75', 12170, 4146, 510, 690],\n",
      "       ['c76', 8955, 669, 510, 690],\n",
      "       ['c77', 2984, 10794, 510, 690],\n",
      "       ['c78', 3097, 10033, 510, 690],\n",
      "       ['c79', 5784, 3, 510, 690],\n",
      "       ['c80', 4354, 317, 510, 690],\n",
      "       ['c82', 12513, 5578, 510, 690],\n",
      "       ['c83', 5503, 1889, 510, 690],\n",
      "       ['c84', 5113, 3025, 510, 690],\n",
      "       ['c85', 11338, 2588, 510, 690],\n",
      "       ['c86', 983, 4340, 510, 690],\n",
      "       ['c88', 1942, 9502, 510, 690],\n",
      "       ['c90', 8098, 4067, 510, 690],\n",
      "       ['c91', 2297, 5297, 510, 690],\n",
      "       ['c92', 11352, 2606, 510, 690],\n",
      "       ['c93', 4340, 10009, 630, 750],\n",
      "       ['c94', 11639, 3039, 630, 750],\n",
      "       ['c95', 7711, 7058, 630, 750],\n",
      "       ['c96', 4642, 6358, 630, 750],\n",
      "       ['c97', 6836, 3520, 630, 750],\n",
      "       ['c98', 5331, 11095, 630, 750],\n",
      "       ['c99', 2361, 1278, 630, 702],\n",
      "       ['c100', 8147, 7429, 630, 750],\n",
      "       ['c101', 2670, 9135, 630, 750],\n",
      "       ['c102', 415, 8926, 630, 750],\n",
      "       ['c103', 3899, 6292, 630, 750],\n",
      "       ['c104', 3823, 1930, 630, 750]], dtype=object), array([['c52', 9632, 8252, 450, 645],\n",
      "       ['c67', 12394, 4899, 510, 690],\n",
      "       ['c68', 5763, 9892, 510, 690],\n",
      "       ['c69', 616, 9323, 510, 690],\n",
      "       ['c70', 12519, 5630, 510, 690],\n",
      "       ['c71', 8103, 10376, 510, 690],\n",
      "       ['c72', 12510, 5556, 510, 690],\n",
      "       ['c73', 4466, 4292, 510, 690],\n",
      "       ['c74', 12343, 4692, 510, 690],\n",
      "       ['c75', 12170, 4146, 510, 690],\n",
      "       ['c76', 8955, 669, 510, 690],\n",
      "       ['c77', 2984, 10794, 510, 690],\n",
      "       ['c78', 3097, 10033, 510, 690],\n",
      "       ['c79', 5784, 3, 510, 690],\n",
      "       ['c80', 4354, 317, 510, 690],\n",
      "       ['c82', 12513, 5578, 510, 690],\n",
      "       ['c83', 5503, 1889, 510, 690],\n",
      "       ['c84', 5113, 3025, 510, 690],\n",
      "       ['c85', 11338, 2588, 510, 690],\n",
      "       ['c86', 983, 4340, 510, 690],\n",
      "       ['c88', 1942, 9502, 510, 690],\n",
      "       ['c90', 8098, 4067, 510, 690],\n",
      "       ['c91', 2297, 5297, 510, 690],\n",
      "       ['c92', 11352, 2606, 510, 690]], dtype=object), array([['c42', 3461, 6279, 450, 630],\n",
      "       ['c43', 6471, 4531, 450, 630],\n",
      "       ['c44', 1801, 2648, 450, 630],\n",
      "       ['c45', 6046, 4861, 450, 630],\n",
      "       ['c46', 5806, 11777, 450, 630],\n",
      "       ['c47', 12555, 6153, 450, 630],\n",
      "       ['c48', 5832, 3054, 450, 630],\n",
      "       ['c49', 2093, 5394, 450, 630],\n",
      "       ['c50', 3666, 10812, 450, 630],\n",
      "       ['c51', 9123, 688, 450, 630],\n",
      "       ['c52', 9632, 8252, 450, 645],\n",
      "       ['c53', 11235, 2450, 450, 630],\n",
      "       ['c54', 9859, 1134, 450, 630],\n",
      "       ['c55', 12039, 3816, 450, 630],\n",
      "       ['c56', 4803, 4723, 450, 630],\n",
      "       ['c57', 9674, 2063, 450, 630],\n",
      "       ['c58', 2808, 7200, 450, 630],\n",
      "       ['c59', 11415, 2695, 450, 630],\n",
      "       ['c60', 7519, 117, 450, 630],\n",
      "       ['c61', 10157, 8792, 450, 630],\n",
      "       ['c62', 3088, 7823, 450, 630],\n",
      "       ['c63', 8144, 11395, 450, 630],\n",
      "       ['c64', 5456, 94, 450, 630],\n",
      "       ['c65', 3154, 7997, 450, 630],\n",
      "       ['c66', 5354, 1159, 510, 630],\n",
      "       ['c67', 12394, 4899, 510, 690],\n",
      "       ['c68', 5763, 9892, 510, 690],\n",
      "       ['c69', 616, 9323, 510, 690],\n",
      "       ['c70', 12519, 5630, 510, 690],\n",
      "       ['c71', 8103, 10376, 510, 690],\n",
      "       ['c72', 12510, 5556, 510, 690],\n",
      "       ['c73', 4466, 4292, 510, 690],\n",
      "       ['c74', 12343, 4692, 510, 690],\n",
      "       ['c75', 12170, 4146, 510, 690],\n",
      "       ['c76', 8955, 669, 510, 690],\n",
      "       ['c77', 2984, 10794, 510, 690],\n",
      "       ['c78', 3097, 10033, 510, 690],\n",
      "       ['c79', 5784, 3, 510, 690],\n",
      "       ['c80', 4354, 317, 510, 690],\n",
      "       ['c81', 9110, 5697, 510, 630],\n",
      "       ['c82', 12513, 5578, 510, 690],\n",
      "       ['c83', 5503, 1889, 510, 690],\n",
      "       ['c84', 5113, 3025, 510, 690],\n",
      "       ['c85', 11338, 2588, 510, 690],\n",
      "       ['c86', 983, 4340, 510, 690],\n",
      "       ['c87', 3791, 10253, 510, 630],\n",
      "       ['c88', 1942, 9502, 510, 690],\n",
      "       ['c89', 9977, 1219, 510, 630],\n",
      "       ['c90', 8098, 4067, 510, 690],\n",
      "       ['c91', 2297, 5297, 510, 690],\n",
      "       ['c92', 11352, 2606, 510, 690]], dtype=object), array([['c3', 2818, 10568, 30, 210],\n",
      "       ['c4', 12413, 7222, 90, 270],\n",
      "       ['c5', 3572, 3264, 90, 270],\n",
      "       ['c6', 9104, 10812, 90, 270],\n",
      "       ['c7', 9135, 2795, 90, 270],\n",
      "       ['c8', 6152, 483, 90, 270],\n",
      "       ['c9', 0, 7262, 90, 270],\n",
      "       ['c10', 10640, 1782, 90, 210],\n",
      "       ['c11', 12054, 3851, 90, 270],\n",
      "       ['c12', 1665, 6706, 90, 210],\n",
      "       ['c13', 10821, 1966, 90, 270],\n",
      "       ['c14', 9792, 1088, 90, 270],\n",
      "       ['c15', 7996, 237, 90, 270],\n",
      "       ['c16', 6406, 5207, 90, 270],\n",
      "       ['c17', 3742, 7596, 90, 270],\n",
      "       ['c18', 6541, 4301, 90, 270],\n",
      "       ['c19', 3502, 10823, 90, 270],\n",
      "       ['c20', 7691, 7328, 90, 270],\n",
      "       ['c21', 1819, 6723, 90, 270],\n",
      "       ['c22', 9556, 7777, 90, 293],\n",
      "       ['c23', 12346, 4705, 90, 270],\n",
      "       ['c24', 5028, 9204, 90, 270],\n",
      "       ['c25', 7888, 206, 90, 270]], dtype=object)]\n"
     ]
    }
   ],
   "source": [
    "courier = []\n",
    "for i in range(len(order)):\n",
    "    cc = c[(c[:,3] <= order[i][3]) & (c[:,4] >= order[i][5])]\n",
    "    courier.append(cc)\n",
    "\n",
    "print(courier)"
   ]
  },
  {
   "cell_type": "code",
   "execution_count": 13,
   "id": "b60df650",
   "metadata": {},
   "outputs": [],
   "source": [
    "c1,c2,c3,c4,c5,c6,c7,c8,c9,c10 = courier"
   ]
  },
  {
   "cell_type": "markdown",
   "id": "d96ad17f",
   "metadata": {},
   "source": [
    "### courier의 x,y부터 주문 받은 restaurant까지 placement_time 내에 시속 50km로 갈 수 있는 라이더 선정"
   ]
  },
  {
   "cell_type": "code",
   "execution_count": 38,
   "id": "9f6c4124",
   "metadata": {},
   "outputs": [],
   "source": [
    "working_all = []\n",
    "for i in range(len(courier)):\n",
    "    time = abs(restaurant[i][:,1] - courier[i][:,1]) + abs(restaurant[i][:,2] - courier[i][:,2]) / 50  <= order[i][5]\n",
    "    working_all.append(np.where(time))\n",
    "w1,w2,w3,w4,w5,w6,w7,w8,w9,w10 = working_all"
   ]
  },
  {
   "cell_type": "code",
   "execution_count": 46,
   "id": "78ce3d81",
   "metadata": {},
   "outputs": [
    {
     "ename": "SyntaxError",
     "evalue": "'return' outside function (1773183396.py, line 8)",
     "output_type": "error",
     "traceback": [
      "\u001b[1;36m  File \u001b[1;32m\"C:\\Users\\syeon\\AppData\\Local\\Temp\\ipykernel_13968\\1773183396.py\"\u001b[1;36m, line \u001b[1;32m8\u001b[0m\n\u001b[1;33m    return 0\u001b[0m\n\u001b[1;37m    ^\u001b[0m\n\u001b[1;31mSyntaxError\u001b[0m\u001b[1;31m:\u001b[0m 'return' outside function\n"
     ]
    }
   ],
   "source": [
    "working_all = []\n",
    "for i in range(len(courier)):\n",
    "    time = abs(restaurant[i][:,1] - courier[i][:,1]) + abs(restaurant[i][:,2] - courier[i][:,2]) / 50  <= order[i][5]\n",
    "    working_all.append(np.where(time))\n",
    "    \n",
    "    for j in range(len(working_all)):\n",
    "        if working_all[j] == []:\n",
    "            return 0\n",
    "        else:\n",
    "            return 1\n",
    "w1,w2,w3,w4,w5,w6,w7,w8,w9,w10 = working_all"
   ]
  },
  {
   "cell_type": "code",
   "execution_count": 41,
   "id": "eecf2b82",
   "metadata": {},
   "outputs": [
    {
     "data": {
      "text/plain": [
       "[(array([ 5, 21, 26, 31], dtype=int64),),\n",
       " (array([16, 17], dtype=int64),),\n",
       " (array([], dtype=int64),),\n",
       " (array([ 9, 10, 15, 34, 39], dtype=int64),),\n",
       " (array([], dtype=int64),),\n",
       " (array([], dtype=int64),),\n",
       " (array([ 9, 18, 23, 25], dtype=int64),),\n",
       " (array([ 2, 16, 17], dtype=int64),),\n",
       " (array([1, 3], dtype=int64),),\n",
       " (array([], dtype=int64),)]"
      ]
     },
     "execution_count": 41,
     "metadata": {},
     "output_type": "execute_result"
    }
   ],
   "source": [
    "working_all"
   ]
  },
  {
   "cell_type": "code",
   "execution_count": 43,
   "id": "0dc71663",
   "metadata": {},
   "outputs": [
    {
     "data": {
      "text/plain": [
       "False"
      ]
     },
     "execution_count": 43,
     "metadata": {},
     "output_type": "execute_result"
    }
   ],
   "source": [
    "w3 is None"
   ]
  },
  {
   "cell_type": "code",
   "execution_count": 45,
   "id": "7c392c89",
   "metadata": {},
   "outputs": [
    {
     "data": {
      "text/plain": [
       "10"
      ]
     },
     "execution_count": 45,
     "metadata": {},
     "output_type": "execute_result"
    }
   ],
   "source": [
    "len(working_all)"
   ]
  },
  {
   "cell_type": "code",
   "execution_count": 73,
   "id": "a683b59b",
   "metadata": {},
   "outputs": [
    {
     "data": {
      "image/png": "[encoded data removed]",
      "text/plain": [
       "<Figure size 432x288 with 1 Axes>"
      ]
     },
     "metadata": {
      "needs_background": "light"
     },
     "output_type": "display_data"
    }
   ],
   "source": [
    "import matplotlib.pyplot as plt\n",
    "x = []\n",
    "y = []\n",
    "\n",
    "cx = c5[w5][:,1]\n",
    "cy = c5[w5][:,2]\n",
    "\n",
    "fig, ax = plt.subplots()\n",
    "\n",
    "ax.scatter(cx,cy,10, 'c')\n",
    "# plt.show()\n",
    "\n",
    "ox = o5[1]\n",
    "oy = o5[2]\n",
    "\n",
    "# fig, ax = plt.subplots()\n",
    "\n",
    "ax.scatter(ox,oy,10,'y')\n",
    "# plt.show()\n",
    "\n",
    "rx = r5[:,1]\n",
    "ry = r5[:,2]\n",
    "\n",
    "# fig, ax = plt.subplots()\n",
    "\n",
    "ax.scatter(rx,ry,10,'r')\n",
    "\n",
    "plt.plot(cx, cy, ox, oy, rx, ry, \"bo-\")\n",
    "plt.show()"
   ]
  },
  {
   "cell_type": "code",
   "execution_count": null,
   "id": "615563b2",
   "metadata": {},
   "outputs": [],
   "source": []
  }
 ],
 "metadata": {
  "kernelspec": {
   "display_name": "soyeon",
   "language": "python",
   "name": "soyeon"
  },
  "language_info": {
   "codemirror_mode": {
    "name": "ipython",
    "version": 3
   },
   "file_extension": ".py",
   "mimetype": "text/x-python",
   "name": "python",
   "nbconvert_exporter": "python",
   "pygments_lexer": "ipython3",
   "version": "3.7.13"
  }
 },
 "nbformat": 4,
 "nbformat_minor": 5
}
