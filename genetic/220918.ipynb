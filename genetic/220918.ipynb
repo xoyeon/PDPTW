{
 "cells": [
  {
   "cell_type": "code",
   "execution_count": 339,
   "id": "c79b667e",
   "metadata": {
    "collapsed": true
   },
   "outputs": [
    {
     "name": "stdout",
     "output_type": "stream",
     "text": [
      "order ['r1', 8708, 5633, 'o1', 9131, 7497, 743, 753]\n",
      "근무중인 라이더 9\n",
      "equation_inputs [[ 3810  7415   690   810]\n",
      " [ 3217  9891   690   840]\n",
      " [11678  3104   690   810]\n",
      " [ 7651  4332   690   810]\n",
      " [10855  7784   690   810]\n",
      " [ 7038  5694   690   840]\n",
      " [ 5013  2778   690   810]\n",
      " [ 8236  1518   690   810]\n",
      " [ 4981  4827   690   840]]\n",
      "num_weights 9\n",
      "new_population [[[ 8.   6.   3.   3.   7.   8.   4.   3.   8. ]\n",
      "  [55.  58.  45.  32.  32.  47.  33.  41.  50. ]\n",
      "  [ 0.9  0.9  0.9  0.9  0.9  0.9  0.9  0.9  0.9]]\n",
      "\n",
      " [[ 7.   5.   9.   5.   3.   3.   9.   3.   8. ]\n",
      "  [30.  51.  32.  30.  35.  56.  37.  36.  57. ]\n",
      "  [ 0.9  0.9  0.9  0.9  0.9  0.9  0.9  0.9  0.9]]\n",
      "\n",
      " [[ 6.   8.   7.   5.   9.   6.   6.   9.   7. ]\n",
      "  [47.  32.  59.  46.  32.  48.  56.  58.  53. ]\n",
      "  [ 0.9  0.9  0.9  0.9  0.9  0.9  0.9  0.9  0.9]]\n",
      "\n",
      " [[ 8.   3.   6.   3.   8.   3.   9.   6.   5. ]\n",
      "  [56.  43.  46.  40.  41.  44.  40.  59.  31. ]\n",
      "  [ 0.9  0.9  0.9  0.9  0.9  0.9  0.9  0.9  0.9]]\n",
      "\n",
      " [[ 8.   4.   9.   8.   8.   3.   6.   4.   3. ]\n",
      "  [46.  54.  51.  53.  32.  50.  50.  59.  39. ]\n",
      "  [ 0.9  0.9  0.9  0.9  0.9  0.9  0.9  0.9  0.9]]]\n"
     ]
    }
   ],
   "source": [
    "import pandas as pd\n",
    "import numpy\n",
    "\n",
    "# data\n",
    "restaurants = pd.read_csv(\"https://raw.githubusercontent.com/xoyeon/PDPTW/main/grubhub/0o100t100s1p100/restaurants.txt\", sep = '\\t')\n",
    "orders = pd.read_csv(\"https://raw.githubusercontent.com/xoyeon/PDPTW/main/grubhub/0o100t100s1p100/orders.txt\", sep = '\\t')\n",
    "couriers = pd.read_csv(\"https://raw.githubusercontent.com/xoyeon/PDPTW/main/grubhub/0o100t100s1p100/couriers.txt\", sep = '\\t')\n",
    "rest_orders = pd.merge(restaurants, orders, how='inner', on=['restaurant'])\n",
    "rest_orders.columns = ['restaurant', 'rx', 'ry', 'order', 'ox', 'oy', 'placement_time', 'ready_time']\n",
    "\n",
    "# 주문 건\n",
    "# order = rest_orders.sample(n=1)\n",
    "order = ['r1',8708,5633,'o1',9131,7497,743,753]\n",
    "print(\"order\", order)\n",
    "# 근무중인 라이더\n",
    "rider = couriers[(couriers['on_time'] <= order[6]) & (couriers['off_time'] >= order[7])]\n",
    "working_rider = len(rider)\n",
    "print(\"근무중인 라이더\", working_rider)\n",
    "\"\"\"\n",
    "Genetic algorithm parameters:\n",
    "    Mating pool size\n",
    "    Population size\n",
    "\"\"\"\n",
    "\n",
    "\n",
    "# Defining the population size.\n",
    "sol_per_pop = 5\n",
    "num_parents_mating = 4\n",
    "\n",
    "# Inputs of the equation. # 내가 업데이트 해야하는 값\n",
    "dist_x = numpy.array(rider['x'])\n",
    "dist_y = numpy.array(rider['y'])\n",
    "on_time = numpy.array(rider['on_time'])\n",
    "off_time = numpy.array(rider['off_time'])\n",
    "\n",
    "equation_inputs = numpy.stack((dist_x, dist_y, on_time, off_time), axis=1)\n",
    "print(\"equation_inputs\",equation_inputs)\n",
    "\n",
    "# Number of the weights we are looking to optimize.\n",
    "num_weights = len(equation_inputs)\n",
    "print(\"num_weights\",num_weights)\n",
    "\n",
    "# The population will have sol_per_pop chromosome where each chromosome has num_weights genes.\n",
    "pop_size = (sol_per_pop,num_weights)\n",
    "\n",
    "#Creating the initial population.\n",
    "delivered_num = numpy.random.uniform(low=3, high=10, size=pop_size).astype(int)\n",
    "speed = numpy.random.uniform(low=30, high=60, size=pop_size).astype(int)\n",
    "trustiness = numpy.full(pop_size, 0.90)\n",
    "\n",
    "new_population = numpy.stack((delivered_num, speed, trustiness), axis=1)\n",
    "print(\"new_population\",new_population)"
   ]
  },
  {
   "cell_type": "code",
   "execution_count": 530,
   "id": "1780d1ad",
   "metadata": {},
   "outputs": [
    {
     "name": "stdout",
     "output_type": "stream",
     "text": [
      "(5,)\n",
      "[14.81481481 15.40740741 18.66666667 15.11111111 15.7037037 ]\n",
      "<class 'numpy.ndarray'>\n"
     ]
    }
   ],
   "source": [
    "def standard_deviation(equation_inputs, pop):\n",
    "    std = []\n",
    "    for s in range(len(pop)):\n",
    "        mean = sum(pop[:,0][s]) / len(equation_inputs)\n",
    "        var = ((sum(pop[:,0][s]) - mean)**2) / len(equation_inputs)\n",
    "        std.append(var ** 0.5)\n",
    "    std = numpy.array(std)\n",
    "    return std\n",
    "std = standard_deviation(equation_inputs, new_population)\n",
    "print(std.shape)\n",
    "print(std)\n",
    "print(type(std))"
   ]
  },
  {
   "cell_type": "code",
   "execution_count": 563,
   "id": "01352246",
   "metadata": {},
   "outputs": [],
   "source": [
    "def cal_pop_fitness(equation_inputs, order, pop):\n",
    "    std = standard_deviation(equation_inputs, pop)\n",
    "    dist = calculate_distance(order, equation_inputs)\n",
    "    time = calculate_time(order, equation_inputs, pop)\n",
    "    # Calculating the fitness value of each solution in the current population.\n",
    "    # The fitness function calulates the sum of products between each input and its corresponding weight.\n",
    "    fitness = []\n",
    "    for w in range(len(new_population)):\n",
    "        dpt = distance / time\n",
    "        fitness.append(1/std[w]+dt[w])\n",
    "    return fitness\n",
    "\n",
    "fitness = cal_pop_fitness(equation_inputs, order, new_population)"
   ]
  },
  {
   "cell_type": "code",
   "execution_count": 564,
   "id": "582eedb6",
   "metadata": {},
   "outputs": [
    {
     "data": {
      "text/plain": [
       "[array([55.0675, 58.0675, 45.0675, 32.0675, 32.0675, 47.0675, 33.0675,\n",
       "        41.0675, 50.0675]),\n",
       " array([30.06490385, 51.06490385, 32.06490385, 30.06490385, 35.06490385,\n",
       "        56.06490385, 37.06490385, 36.06490385, 57.06490385]),\n",
       " array([47.05357143, 32.05357143, 59.05357143, 46.05357143, 32.05357143,\n",
       "        48.05357143, 56.05357143, 58.05357143, 53.05357143]),\n",
       " array([56.06617647, 43.06617647, 46.06617647, 40.06617647, 41.06617647,\n",
       "        44.06617647, 40.06617647, 59.06617647, 31.06617647]),\n",
       " array([46.06367925, 54.06367925, 51.06367925, 53.06367925, 32.06367925,\n",
       "        50.06367925, 50.06367925, 59.06367925, 39.06367925])]"
      ]
     },
     "execution_count": 564,
     "metadata": {},
     "output_type": "execute_result"
    }
   ],
   "source": [
    "fitness"
   ]
  },
  {
   "cell_type": "code",
   "execution_count": 565,
   "id": "cf6a3b7f",
   "metadata": {},
   "outputs": [
    {
     "data": {
      "text/plain": [
       "array([55.0675, 58.0675, 45.0675, 32.0675, 32.0675, 47.0675, 33.0675,\n",
       "       41.0675, 50.0675])"
      ]
     },
     "execution_count": 565,
     "metadata": {},
     "output_type": "execute_result"
    }
   ],
   "source": [
    "fitness[0]"
   ]
  },
  {
   "cell_type": "code",
   "execution_count": 560,
   "id": "e900827a",
   "metadata": {},
   "outputs": [
    {
     "data": {
      "text/plain": [
       "array([55.0675, 58.0675, 45.0675, 32.0675, 32.0675, 47.0675, 33.0675,\n",
       "       41.0675, 50.0675])"
      ]
     },
     "execution_count": 560,
     "metadata": {},
     "output_type": "execute_result"
    }
   ],
   "source": [
    "1/std[0] + dpt[0]"
   ]
  },
  {
   "cell_type": "code",
   "execution_count": 547,
   "id": "b31477e7",
   "metadata": {},
   "outputs": [
    {
     "data": {
      "text/plain": [
       "array([[55., 58., 45., 32., 32., 47., 33., 41., 50.],\n",
       "       [30., 51., 32., 30., 35., 56., 37., 36., 57.],\n",
       "       [47., 32., 59., 46., 32., 48., 56., 58., 53.],\n",
       "       [56., 43., 46., 40., 41., 44., 40., 59., 31.],\n",
       "       [46., 54., 51., 53., 32., 50., 50., 59., 39.]])"
      ]
     },
     "execution_count": 547,
     "metadata": {},
     "output_type": "execute_result"
    }
   ],
   "source": [
    "distance/time"
   ]
  },
  {
   "cell_type": "code",
   "execution_count": 543,
   "id": "63c2c2b3",
   "metadata": {},
   "outputs": [
    {
     "name": "stdout",
     "output_type": "stream",
     "text": [
      "[55.0675 58.0675 45.0675 32.0675 32.0675 47.0675 33.0675 41.0675 50.0675]\n",
      "[30.06490385 51.06490385 32.06490385 30.06490385 35.06490385 56.06490385\n",
      " 37.06490385 36.06490385 57.06490385]\n",
      "[47.05357143 32.05357143 59.05357143 46.05357143 32.05357143 48.05357143\n",
      " 56.05357143 58.05357143 53.05357143]\n",
      "[56.06617647 43.06617647 46.06617647 40.06617647 41.06617647 44.06617647\n",
      " 40.06617647 59.06617647 31.06617647]\n",
      "[46.06367925 54.06367925 51.06367925 53.06367925 32.06367925 50.06367925\n",
      " 50.06367925 59.06367925 39.06367925]\n"
     ]
    }
   ],
   "source": [
    "for w in range(len(new_population)):\n",
    "    dt = distance / time\n",
    "    print(1/std[w]+dt[w])"
   ]
  },
  {
   "cell_type": "code",
   "execution_count": 536,
   "id": "29f5e723",
   "metadata": {},
   "outputs": [
    {
     "data": {
      "text/plain": [
       "array([55., 58., 45., 32., 32., 47., 33., 41., 50.])"
      ]
     },
     "execution_count": 536,
     "metadata": {},
     "output_type": "execute_result"
    }
   ],
   "source": [
    "dt[0]"
   ]
  },
  {
   "cell_type": "code",
   "execution_count": 534,
   "id": "6c28f922",
   "metadata": {},
   "outputs": [
    {
     "data": {
      "text/plain": [
       "array([[55., 58., 45., 32., 32., 47., 33., 41., 50.],\n",
       "       [30., 51., 32., 30., 35., 56., 37., 36., 57.],\n",
       "       [47., 32., 59., 46., 32., 48., 56., 58., 53.],\n",
       "       [56., 43., 46., 40., 41., 44., 40., 59., 31.],\n",
       "       [46., 54., 51., 53., 32., 50., 50., 59., 39.]])"
      ]
     },
     "execution_count": 534,
     "metadata": {},
     "output_type": "execute_result"
    }
   ],
   "source": [
    "dt = distance / time\n",
    "dt"
   ]
  },
  {
   "cell_type": "code",
   "execution_count": 527,
   "id": "faedb6de",
   "metadata": {},
   "outputs": [
    {
     "name": "stdout",
     "output_type": "stream",
     "text": [
      "(9,)\n",
      "[2657.4  4847.87 7701.84 3738.35 6851.52 3005.62 3348.8  5736.35 1960.58]\n",
      "<class 'numpy.ndarray'>\n"
     ]
    }
   ],
   "source": [
    "def calculate_distance(order, equation_inputs):\n",
    "    distance = ((equation_inputs[:,0]-order[1])**2 + (equation_inputs[:,1]-order[2])**2 + (\n",
    "        order[1]-order[4])**2 + (order[2]-order[5])**2) ** 0.5\n",
    "    distance = numpy.round(distance, 2)\n",
    "    return distance\n",
    "\n",
    "distance = calculate_distance(order, equation_inputs)\n",
    "print(distance.shape)\n",
    "print(distance)\n",
    "print(type(distance))"
   ]
  },
  {
   "cell_type": "code",
   "execution_count": 528,
   "id": "7c772908",
   "metadata": {},
   "outputs": [
    {
     "name": "stdout",
     "output_type": "stream",
     "text": [
      "(5, 9)\n",
      "[[ 48.31636364  83.58396552 171.152      116.8234375  214.11\n",
      "   63.9493617  101.47878788 139.91097561  39.2116    ]\n",
      " [ 88.58        95.05627451 240.6825     124.61166667 195.75771429\n",
      "   53.67178571  90.50810811 159.34305556  34.39614035]\n",
      " [ 56.54042553 151.4959375  130.53966102  81.26847826 214.11\n",
      "   62.61708333  59.8         98.90258621  36.99207547]\n",
      " [ 47.45357143 112.74116279 167.43130435  93.45875    167.1102439\n",
      "   68.30954545  83.72        97.22627119  63.24451613]\n",
      " [ 57.76956522  89.77537037 151.01647059  70.53490566 214.11\n",
      "   60.1124      66.976       97.22627119  50.27128205]]\n"
     ]
    }
   ],
   "source": [
    "def calculate_time(order, equation_inputs, pop):\n",
    "    distance = calculate_distance(order, equation_inputs)\n",
    "    time = distance / new_population[:,1]\n",
    "    return time\n",
    "time = calculate_time(order, equation_inputs, new_population)\n",
    "print(time.shape)\n",
    "print(time)"
   ]
  },
  {
   "cell_type": "code",
   "execution_count": 504,
   "id": "ebe651fb",
   "metadata": {},
   "outputs": [
    {
     "ename": "ValueError",
     "evalue": "operands could not be broadcast together with shapes (9,1) (5,9) ",
     "output_type": "error",
     "traceback": [
      "\u001b[1;31m---------------------------------------------------------------------------\u001b[0m",
      "\u001b[1;31mValueError\u001b[0m                                Traceback (most recent call last)",
      "\u001b[1;32m~\\AppData\\Local\\Temp\\ipykernel_16828\\127113740.py\u001b[0m in \u001b[0;36m<module>\u001b[1;34m\u001b[0m\n\u001b[1;32m----> 1\u001b[1;33m \u001b[0mstd\u001b[0m \u001b[1;33m+\u001b[0m \u001b[0mdistance\u001b[0m \u001b[1;33m/\u001b[0m \u001b[0mtime\u001b[0m\u001b[1;33m\u001b[0m\u001b[1;33m\u001b[0m\u001b[0m\n\u001b[0m",
      "\u001b[1;31mValueError\u001b[0m: operands could not be broadcast together with shapes (9,1) (5,9) "
     ]
    }
   ],
   "source": [
    "std + distance / time"
   ]
  },
  {
   "cell_type": "code",
   "execution_count": 362,
   "id": "3534a202",
   "metadata": {},
   "outputs": [
    {
     "data": {
      "text/plain": [
       "array([[ 3810,  7415,   690,   810],\n",
       "       [ 3217,  9891,   690,   840],\n",
       "       [11678,  3104,   690,   810],\n",
       "       [ 7651,  4332,   690,   810],\n",
       "       [10855,  7784,   690,   810],\n",
       "       [ 7038,  5694,   690,   840],\n",
       "       [ 5013,  2778,   690,   810],\n",
       "       [ 8236,  1518,   690,   810],\n",
       "       [ 4981,  4827,   690,   840]], dtype=int64)"
      ]
     },
     "execution_count": 362,
     "metadata": {},
     "output_type": "execute_result"
    }
   ],
   "source": [
    "equation_inputs"
   ]
  },
  {
   "cell_type": "code",
   "execution_count": 388,
   "id": "bcb32901",
   "metadata": {},
   "outputs": [
    {
     "data": {
      "text/plain": [
       "array([[55., 58., 45., 32., 32., 47., 33., 41., 50.],\n",
       "       [30., 51., 32., 30., 35., 56., 37., 36., 57.],\n",
       "       [47., 32., 59., 46., 32., 48., 56., 58., 53.],\n",
       "       [56., 43., 46., 40., 41., 44., 40., 59., 31.],\n",
       "       [46., 54., 51., 53., 32., 50., 50., 59., 39.]])"
      ]
     },
     "execution_count": 388,
     "metadata": {},
     "output_type": "execute_result"
    }
   ],
   "source": [
    "new_population[:,1]"
   ]
  },
  {
   "cell_type": "code",
   "execution_count": 390,
   "id": "0272fb5f",
   "metadata": {},
   "outputs": [],
   "source": [
    "order = ['r13',4607,5595,'o121',6363,5770,59,78]"
   ]
  },
  {
   "cell_type": "code",
   "execution_count": 409,
   "id": "b136f03e",
   "metadata": {},
   "outputs": [
    {
     "data": {
      "text/plain": [
       "array([[0.9, 0.9, 0.9, 0.9, 0.9, 0.9, 0.9, 0.9, 0.9],\n",
       "       [0.9, 0.9, 0.9, 0.9, 0.9, 0.9, 0.9, 0.9, 0.9],\n",
       "       [0.9, 0.9, 0.9, 0.9, 0.9, 0.9, 0.9, 0.9, 0.9],\n",
       "       [0.9, 0.9, 0.9, 0.9, 0.9, 0.9, 0.9, 0.9, 0.9],\n",
       "       [0.9, 0.9, 0.9, 0.9, 0.9, 0.9, 0.9, 0.9, 0.9]])"
      ]
     },
     "execution_count": 409,
     "metadata": {},
     "output_type": "execute_result"
    }
   ],
   "source": [
    "new_population[:,2]"
   ]
  },
  {
   "cell_type": "code",
   "execution_count": 421,
   "id": "148dcde3",
   "metadata": {},
   "outputs": [
    {
     "name": "stdout",
     "output_type": "stream",
     "text": [
      "[[False False False False False False False False  True]\n",
      " [False False False False False False False False  True]\n",
      " [False False False False False False False False  True]\n",
      " [False False False False False False False False False]\n",
      " [False False False False False False False False False]]\n"
     ]
    }
   ],
   "source": [
    "pickup_dist = ((order[1]-equation_inputs[:,0])**2 + (order[2]-equation_inputs[:,1])**2)**0.5\n",
    "pickup_time = pickup_dist / new_population[:,1] <= order[7]-order[6]\n",
    "print(pickup_time == True)"
   ]
  },
  {
   "cell_type": "code",
   "execution_count": 495,
   "id": "3b34d0e5",
   "metadata": {},
   "outputs": [
    {
     "data": {
      "text/plain": [
       "array([[False, False, False, False, False, False, False, False,  True],\n",
       "       [False, False, False, False, False, False, False, False,  True],\n",
       "       [False, False, False, False, False, False, False, False,  True],\n",
       "       [False, False, False, False, False, False, False, False, False],\n",
       "       [False, False, False, False, False, False, False, False, False]])"
      ]
     },
     "execution_count": 495,
     "metadata": {},
     "output_type": "execute_result"
    }
   ],
   "source": [
    "def calculate_trust(order, equation_inputs, pop):\n",
    "    pickup_dist = ((order[1]-equation_inputs[:,0])**2 + (order[2]-equation_inputs[:,1])**2)**0.5\n",
    "    pickup_time = pickup_dist / new_population[:,1] <= order[7]-order[6]\n",
    "    return pickup_time\n",
    "                  \n",
    "trust = calculate_trust(order, equation_inputs, new_population)\n",
    "trust"
   ]
  },
  {
   "cell_type": "code",
   "execution_count": 497,
   "id": "5acfc9f0",
   "metadata": {},
   "outputs": [
    {
     "ename": "ValueError",
     "evalue": "The truth value of an array with more than one element is ambiguous. Use a.any() or a.all()",
     "output_type": "error",
     "traceback": [
      "\u001b[1;31m---------------------------------------------------------------------------\u001b[0m",
      "\u001b[1;31mValueError\u001b[0m                                Traceback (most recent call last)",
      "\u001b[1;32m~\\AppData\\Local\\Temp\\ipykernel_16828\\1605673416.py\u001b[0m in \u001b[0;36m<module>\u001b[1;34m\u001b[0m\n\u001b[1;32m----> 1\u001b[1;33m \u001b[1;32mif\u001b[0m \u001b[0mtrust\u001b[0m \u001b[1;33m==\u001b[0m \u001b[1;32mFalse\u001b[0m\u001b[1;33m:\u001b[0m\u001b[1;33m\u001b[0m\u001b[1;33m\u001b[0m\u001b[0m\n\u001b[0m\u001b[0;32m      2\u001b[0m     \u001b[0mprint\u001b[0m\u001b[1;33m(\u001b[0m\u001b[0mnew_population\u001b[0m\u001b[1;33m)\u001b[0m\u001b[1;33m\u001b[0m\u001b[1;33m\u001b[0m\u001b[0m\n",
      "\u001b[1;31mValueError\u001b[0m: The truth value of an array with more than one element is ambiguous. Use a.any() or a.all()"
     ]
    }
   ],
   "source": [
    "if trust == False:\n",
    "    print(new_population)"
   ]
  },
  {
   "cell_type": "code",
   "execution_count": 333,
   "id": "9f9e9164",
   "metadata": {},
   "outputs": [
    {
     "data": {
      "text/plain": [
       "array([41., 39., 50., 57., 44., 34., 46., 53., 54.])"
      ]
     },
     "execution_count": 333,
     "metadata": {},
     "output_type": "execute_result"
    }
   ],
   "source": [
    "distance/time[0]"
   ]
  },
  {
   "cell_type": "code",
   "execution_count": 334,
   "id": "12fd2119",
   "metadata": {},
   "outputs": [
    {
     "data": {
      "text/plain": [
       "array([56.7037037, 54.7037037, 65.7037037, 72.7037037, 59.7037037,\n",
       "       49.7037037, 61.7037037, 68.7037037, 69.7037037])"
      ]
     },
     "execution_count": 334,
     "metadata": {},
     "output_type": "execute_result"
    }
   ],
   "source": [
    "std[0] + distance/time[0]"
   ]
  },
  {
   "cell_type": "code",
   "execution_count": 132,
   "id": "9069cbd8",
   "metadata": {},
   "outputs": [],
   "source": [
    "import numpy\n",
    "from sklearn.preprocessing import MinMaxScaler\n",
    "\n",
    "scaler = MinMaxScaler()\n",
    "\n",
    "def standard_deviation(equation_inputs, pop):\n",
    "    std = []\n",
    "    for s in range(len(pop)):\n",
    "        mean = sum(pop[:,0][s]) / len(pop)\n",
    "        print(mean)\n",
    "        var = ((sum(pop[:,0][s]) - mean)**2) / len(equation_inputs)\n",
    "        print(var)\n",
    "        std.append(var ** 0.5)\n",
    "    return std\n",
    "\n",
    "def calculate_distance(order, dist_x, dist_y):\n",
    "    distance = ((dist_x-order[1])**2 + (dist_y-order[2])**2 + (order[1]-order[4])**2 + (order[2]-order[5])**2) ** 0.5\n",
    "    distance = numpy.round(distance, 2)\n",
    "    distance = distance.reshape(-1,1)\n",
    "    return distance\n",
    "    # return scaler.fit_transform(distance)\n",
    "\n",
    "def calculate_time(order, dist_x, dist_y, speed, pop):\n",
    "    distance = calculate_distance(order, dist_x, dist_y)\n",
    "    time = []\n",
    "    for p in range(len(equation_inputs)):\n",
    "        t = distance[p] / new_population[:,p]\n",
    "        time.append(t)\n",
    "    return time\n",
    "\n",
    "\n",
    "\n",
    "def calculate_trust():\n",
    "    return #성공여부도 확률값 95% 0~1 randoms 0.95 작으면 성공\n",
    "\n",
    "# fitness = ga.cal_pop_fitness(equation_inputs, new_population)\n",
    "# def cal_pop_fitness(delivered_num, order, dist_x, dist_y, speed, pop):\n",
    "def cal_pop_fitness(delivered_num, order, dist_x, dist_y, pop):\n",
    "    std = standard_deviation(delivered_num,pop)\n",
    "    dist = calculate_distance(order, dist_x, dist_y)\n",
    "    # time = calculate_time(order, dist_x, dist_y, speed)\n",
    "    # trust = calculate_trust()\n",
    "# distance = calculate_distance(order, pop)\n",
    "# time = calculate_time(order,pop)\n",
    "    # Calculating the fitness value of each solution in the current population.\n",
    "    # The fitness function calulates the sum of products between each input and its corresponding weight.\n",
    "    fitness = 1/std + dist #/time #+ trust\n",
    "    # fitness = numpy.sum(pop*equation_inputs, axis=1)\n",
    "    return fitness"
   ]
  },
  {
   "cell_type": "code",
   "execution_count": null,
   "id": "89041c05",
   "metadata": {},
   "outputs": [],
   "source": []
  }
 ],
 "metadata": {
  "kernelspec": {
   "display_name": "soyeon",
   "language": "python",
   "name": "soyeon"
  },
  "language_info": {
   "codemirror_mode": {
    "name": "ipython",
    "version": 3
   },
   "file_extension": ".py",
   "mimetype": "text/x-python",
   "name": "python",
   "nbconvert_exporter": "python",
   "pygments_lexer": "ipython3",
   "version": "3.7.13"
  }
 },
 "nbformat": 4,
 "nbformat_minor": 5
}
