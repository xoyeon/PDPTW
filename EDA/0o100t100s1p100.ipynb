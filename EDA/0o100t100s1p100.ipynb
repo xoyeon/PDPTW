{
 "cells": [
  {
   "cell_type": "code",
   "execution_count": 1,
   "id": "5b1f7007",
   "metadata": {},
   "outputs": [],
   "source": [
    "import numpy as np\n",
    "import pandas as pd\n",
    "\n",
    "import matplotlib.pyplot as plt"
   ]
  },
  {
   "cell_type": "markdown",
   "id": "385f955d",
   "metadata": {},
   "source": [
    "# Listing 1: Restaurant set\n",
    "Re s tau ran t ID , x , y"
   ]
  },
  {
   "cell_type": "code",
   "execution_count": 10,
   "id": "453eacf9",
   "metadata": {},
   "outputs": [
    {
     "data": {
      "text/html": [
       "<div>\n",
       "<style scoped>\n",
       "    .dataframe tbody tr th:only-of-type {\n",
       "        vertical-align: middle;\n",
       "    }\n",
       "\n",
       "    .dataframe tbody tr th {\n",
       "        vertical-align: top;\n",
       "    }\n",
       "\n",
       "    .dataframe thead th {\n",
       "        text-align: right;\n",
       "    }\n",
       "</style>\n",
       "<table border=\"1\" class=\"dataframe\">\n",
       "  <thead>\n",
       "    <tr style=\"text-align: right;\">\n",
       "      <th></th>\n",
       "      <th>restaurant</th>\n",
       "      <th>x</th>\n",
       "      <th>y</th>\n",
       "    </tr>\n",
       "  </thead>\n",
       "  <tbody>\n",
       "    <tr>\n",
       "      <th>0</th>\n",
       "      <td>r1</td>\n",
       "      <td>8708</td>\n",
       "      <td>5633</td>\n",
       "    </tr>\n",
       "    <tr>\n",
       "      <th>1</th>\n",
       "      <td>r2</td>\n",
       "      <td>9103</td>\n",
       "      <td>6345</td>\n",
       "    </tr>\n",
       "    <tr>\n",
       "      <th>2</th>\n",
       "      <td>r3</td>\n",
       "      <td>8991</td>\n",
       "      <td>6342</td>\n",
       "    </tr>\n",
       "    <tr>\n",
       "      <th>3</th>\n",
       "      <td>r4</td>\n",
       "      <td>8542</td>\n",
       "      <td>5317</td>\n",
       "    </tr>\n",
       "    <tr>\n",
       "      <th>4</th>\n",
       "      <td>r5</td>\n",
       "      <td>7577</td>\n",
       "      <td>5076</td>\n",
       "    </tr>\n",
       "    <tr>\n",
       "      <th>...</th>\n",
       "      <td>...</td>\n",
       "      <td>...</td>\n",
       "      <td>...</td>\n",
       "    </tr>\n",
       "    <tr>\n",
       "      <th>111</th>\n",
       "      <td>r112</td>\n",
       "      <td>8884</td>\n",
       "      <td>7405</td>\n",
       "    </tr>\n",
       "    <tr>\n",
       "      <th>112</th>\n",
       "      <td>r113</td>\n",
       "      <td>796</td>\n",
       "      <td>6628</td>\n",
       "    </tr>\n",
       "    <tr>\n",
       "      <th>113</th>\n",
       "      <td>r114</td>\n",
       "      <td>7526</td>\n",
       "      <td>7726</td>\n",
       "    </tr>\n",
       "    <tr>\n",
       "      <th>114</th>\n",
       "      <td>r115</td>\n",
       "      <td>9843</td>\n",
       "      <td>9303</td>\n",
       "    </tr>\n",
       "    <tr>\n",
       "      <th>115</th>\n",
       "      <td>r116</td>\n",
       "      <td>4989</td>\n",
       "      <td>7474</td>\n",
       "    </tr>\n",
       "  </tbody>\n",
       "</table>\n",
       "<p>116 rows × 3 columns</p>\n",
       "</div>"
      ],
      "text/plain": [
       "    restaurant     x     y\n",
       "0           r1  8708  5633\n",
       "1           r2  9103  6345\n",
       "2           r3  8991  6342\n",
       "3           r4  8542  5317\n",
       "4           r5  7577  5076\n",
       "..         ...   ...   ...\n",
       "111       r112  8884  7405\n",
       "112       r113   796  6628\n",
       "113       r114  7526  7726\n",
       "114       r115  9843  9303\n",
       "115       r116  4989  7474\n",
       "\n",
       "[116 rows x 3 columns]"
      ]
     },
     "execution_count": 10,
     "metadata": {},
     "output_type": "execute_result"
    }
   ],
   "source": [
    "restaurants = pd.read_csv(\n",
    "    \"https://raw.githubusercontent.com/xoyeon/mdrplib/master/public_instances/0o100t100s1p100/restaurants.txt\",\n",
    "    sep = '\\t'\n",
    ")\n",
    "# restaurants.columns = ['restaurant', 'restaurant_x', 'restaurant_y']\n",
    "restaurants"
   ]
  },
  {
   "cell_type": "markdown",
   "id": "5a7a5ddb",
   "metadata": {},
   "source": [
    "# Listing 2: Order set\n",
    "Order ID , x , y , placement time , Re s tau ran t ID , ready time"
   ]
  },
  {
   "cell_type": "code",
   "execution_count": 11,
   "id": "4fe90c43",
   "metadata": {},
   "outputs": [
    {
     "data": {
      "text/html": [
       "<div>\n",
       "<style scoped>\n",
       "    .dataframe tbody tr th:only-of-type {\n",
       "        vertical-align: middle;\n",
       "    }\n",
       "\n",
       "    .dataframe tbody tr th {\n",
       "        vertical-align: top;\n",
       "    }\n",
       "\n",
       "    .dataframe thead th {\n",
       "        text-align: right;\n",
       "    }\n",
       "</style>\n",
       "<table border=\"1\" class=\"dataframe\">\n",
       "  <thead>\n",
       "    <tr style=\"text-align: right;\">\n",
       "      <th></th>\n",
       "      <th>order</th>\n",
       "      <th>x</th>\n",
       "      <th>y</th>\n",
       "      <th>placement_time</th>\n",
       "      <th>restaurant</th>\n",
       "      <th>ready_time</th>\n",
       "    </tr>\n",
       "  </thead>\n",
       "  <tbody>\n",
       "    <tr>\n",
       "      <th>0</th>\n",
       "      <td>o1</td>\n",
       "      <td>9131</td>\n",
       "      <td>7497</td>\n",
       "      <td>743</td>\n",
       "      <td>r1</td>\n",
       "      <td>753</td>\n",
       "    </tr>\n",
       "    <tr>\n",
       "      <th>1</th>\n",
       "      <td>o2</td>\n",
       "      <td>9024</td>\n",
       "      <td>6677</td>\n",
       "      <td>541</td>\n",
       "      <td>r2</td>\n",
       "      <td>557</td>\n",
       "    </tr>\n",
       "    <tr>\n",
       "      <th>2</th>\n",
       "      <td>o3</td>\n",
       "      <td>5645</td>\n",
       "      <td>7048</td>\n",
       "      <td>626</td>\n",
       "      <td>r3</td>\n",
       "      <td>656</td>\n",
       "    </tr>\n",
       "    <tr>\n",
       "      <th>3</th>\n",
       "      <td>o4</td>\n",
       "      <td>6019</td>\n",
       "      <td>5613</td>\n",
       "      <td>566</td>\n",
       "      <td>r4</td>\n",
       "      <td>582</td>\n",
       "    </tr>\n",
       "    <tr>\n",
       "      <th>4</th>\n",
       "      <td>o5</td>\n",
       "      <td>7083</td>\n",
       "      <td>5106</td>\n",
       "      <td>574</td>\n",
       "      <td>r5</td>\n",
       "      <td>582</td>\n",
       "    </tr>\n",
       "    <tr>\n",
       "      <th>...</th>\n",
       "      <td>...</td>\n",
       "      <td>...</td>\n",
       "      <td>...</td>\n",
       "      <td>...</td>\n",
       "      <td>...</td>\n",
       "      <td>...</td>\n",
       "    </tr>\n",
       "    <tr>\n",
       "      <th>500</th>\n",
       "      <td>o501</td>\n",
       "      <td>6531</td>\n",
       "      <td>4914</td>\n",
       "      <td>497</td>\n",
       "      <td>r102</td>\n",
       "      <td>521</td>\n",
       "    </tr>\n",
       "    <tr>\n",
       "      <th>501</th>\n",
       "      <td>o502</td>\n",
       "      <td>3813</td>\n",
       "      <td>8200</td>\n",
       "      <td>289</td>\n",
       "      <td>r99</td>\n",
       "      <td>325</td>\n",
       "    </tr>\n",
       "    <tr>\n",
       "      <th>502</th>\n",
       "      <td>o503</td>\n",
       "      <td>3023</td>\n",
       "      <td>4692</td>\n",
       "      <td>576</td>\n",
       "      <td>r93</td>\n",
       "      <td>588</td>\n",
       "    </tr>\n",
       "    <tr>\n",
       "      <th>503</th>\n",
       "      <td>o504</td>\n",
       "      <td>9417</td>\n",
       "      <td>4103</td>\n",
       "      <td>623</td>\n",
       "      <td>r28</td>\n",
       "      <td>649</td>\n",
       "    </tr>\n",
       "    <tr>\n",
       "      <th>504</th>\n",
       "      <td>o505</td>\n",
       "      <td>8804</td>\n",
       "      <td>5179</td>\n",
       "      <td>597</td>\n",
       "      <td>r7</td>\n",
       "      <td>604</td>\n",
       "    </tr>\n",
       "  </tbody>\n",
       "</table>\n",
       "<p>505 rows × 6 columns</p>\n",
       "</div>"
      ],
      "text/plain": [
       "    order     x     y  placement_time restaurant  ready_time\n",
       "0      o1  9131  7497             743         r1         753\n",
       "1      o2  9024  6677             541         r2         557\n",
       "2      o3  5645  7048             626         r3         656\n",
       "3      o4  6019  5613             566         r4         582\n",
       "4      o5  7083  5106             574         r5         582\n",
       "..    ...   ...   ...             ...        ...         ...\n",
       "500  o501  6531  4914             497       r102         521\n",
       "501  o502  3813  8200             289        r99         325\n",
       "502  o503  3023  4692             576        r93         588\n",
       "503  o504  9417  4103             623        r28         649\n",
       "504  o505  8804  5179             597         r7         604\n",
       "\n",
       "[505 rows x 6 columns]"
      ]
     },
     "execution_count": 11,
     "metadata": {},
     "output_type": "execute_result"
    }
   ],
   "source": [
    "orders = pd.read_csv(\n",
    "    \"https://raw.githubusercontent.com/xoyeon/mdrplib/master/public_instances/0o100t100s1p100/orders.txt\",\n",
    "    sep = '\\t'\n",
    ")\n",
    "# orders.columns = ['order', 'order_x', 'order_y', 'placement_time', 'restaurant', 'ready_time']\n",
    "orders"
   ]
  },
  {
   "cell_type": "markdown",
   "id": "c6452a4f",
   "metadata": {},
   "source": [
    "# Listing 3: Courier set\n",
    "Co u ri e r ID , x , y , on−time , off −tim"
   ]
  },
  {
   "cell_type": "code",
   "execution_count": 12,
   "id": "b38574f9",
   "metadata": {},
   "outputs": [
    {
     "data": {
      "text/html": [
       "<div>\n",
       "<style scoped>\n",
       "    .dataframe tbody tr th:only-of-type {\n",
       "        vertical-align: middle;\n",
       "    }\n",
       "\n",
       "    .dataframe tbody tr th {\n",
       "        vertical-align: top;\n",
       "    }\n",
       "\n",
       "    .dataframe thead th {\n",
       "        text-align: right;\n",
       "    }\n",
       "</style>\n",
       "<table border=\"1\" class=\"dataframe\">\n",
       "  <thead>\n",
       "    <tr style=\"text-align: right;\">\n",
       "      <th></th>\n",
       "      <th>courier</th>\n",
       "      <th>x</th>\n",
       "      <th>y</th>\n",
       "      <th>on_time</th>\n",
       "      <th>off_time</th>\n",
       "    </tr>\n",
       "  </thead>\n",
       "  <tbody>\n",
       "    <tr>\n",
       "      <th>0</th>\n",
       "      <td>c1</td>\n",
       "      <td>11491</td>\n",
       "      <td>2806</td>\n",
       "      <td>0</td>\n",
       "      <td>90</td>\n",
       "    </tr>\n",
       "    <tr>\n",
       "      <th>1</th>\n",
       "      <td>c2</td>\n",
       "      <td>7950</td>\n",
       "      <td>223</td>\n",
       "      <td>0</td>\n",
       "      <td>90</td>\n",
       "    </tr>\n",
       "    <tr>\n",
       "      <th>2</th>\n",
       "      <td>c3</td>\n",
       "      <td>2818</td>\n",
       "      <td>10568</td>\n",
       "      <td>30</td>\n",
       "      <td>210</td>\n",
       "    </tr>\n",
       "    <tr>\n",
       "      <th>3</th>\n",
       "      <td>c4</td>\n",
       "      <td>12413</td>\n",
       "      <td>7222</td>\n",
       "      <td>90</td>\n",
       "      <td>270</td>\n",
       "    </tr>\n",
       "    <tr>\n",
       "      <th>4</th>\n",
       "      <td>c5</td>\n",
       "      <td>3572</td>\n",
       "      <td>3264</td>\n",
       "      <td>90</td>\n",
       "      <td>270</td>\n",
       "    </tr>\n",
       "    <tr>\n",
       "      <th>...</th>\n",
       "      <td>...</td>\n",
       "      <td>...</td>\n",
       "      <td>...</td>\n",
       "      <td>...</td>\n",
       "      <td>...</td>\n",
       "    </tr>\n",
       "    <tr>\n",
       "      <th>108</th>\n",
       "      <td>c109</td>\n",
       "      <td>10855</td>\n",
       "      <td>7784</td>\n",
       "      <td>690</td>\n",
       "      <td>810</td>\n",
       "    </tr>\n",
       "    <tr>\n",
       "      <th>109</th>\n",
       "      <td>c110</td>\n",
       "      <td>7038</td>\n",
       "      <td>5694</td>\n",
       "      <td>690</td>\n",
       "      <td>840</td>\n",
       "    </tr>\n",
       "    <tr>\n",
       "      <th>110</th>\n",
       "      <td>c111</td>\n",
       "      <td>5013</td>\n",
       "      <td>2778</td>\n",
       "      <td>690</td>\n",
       "      <td>810</td>\n",
       "    </tr>\n",
       "    <tr>\n",
       "      <th>111</th>\n",
       "      <td>c112</td>\n",
       "      <td>8236</td>\n",
       "      <td>1518</td>\n",
       "      <td>690</td>\n",
       "      <td>810</td>\n",
       "    </tr>\n",
       "    <tr>\n",
       "      <th>112</th>\n",
       "      <td>c113</td>\n",
       "      <td>4981</td>\n",
       "      <td>4827</td>\n",
       "      <td>690</td>\n",
       "      <td>840</td>\n",
       "    </tr>\n",
       "  </tbody>\n",
       "</table>\n",
       "<p>113 rows × 5 columns</p>\n",
       "</div>"
      ],
      "text/plain": [
       "    courier      x      y  on_time  off_time\n",
       "0        c1  11491   2806        0        90\n",
       "1        c2   7950    223        0        90\n",
       "2        c3   2818  10568       30       210\n",
       "3        c4  12413   7222       90       270\n",
       "4        c5   3572   3264       90       270\n",
       "..      ...    ...    ...      ...       ...\n",
       "108    c109  10855   7784      690       810\n",
       "109    c110   7038   5694      690       840\n",
       "110    c111   5013   2778      690       810\n",
       "111    c112   8236   1518      690       810\n",
       "112    c113   4981   4827      690       840\n",
       "\n",
       "[113 rows x 5 columns]"
      ]
     },
     "execution_count": 12,
     "metadata": {},
     "output_type": "execute_result"
    }
   ],
   "source": [
    "couriers = pd.read_csv(\n",
    "    \"https://raw.githubusercontent.com/xoyeon/mdrplib/master/public_instances/0o100t100s1p100/couriers.txt\",\n",
    "    sep = '\\t')\n",
    "# couriers.columns = ['courier', 'courier_x', 'courier_y', 'on_time', 'off_time']\n",
    "couriers"
   ]
  },
  {
   "cell_type": "markdown",
   "id": "ed25bc6e",
   "metadata": {},
   "source": [
    "# Listing 4: Time and compensation parameters\n",
    "T ravel time m u l t i p l i e r , s e r v i c e time a t pickup ,\n",
    "s e r v i c e time a t drop−off , t a r g e t c l i c k −to−door time ,\n",
    "maximum c l i c k −to−door time , per−o r d e r pay , per−hour pay"
   ]
  },
  {
   "cell_type": "code",
   "execution_count": 14,
   "id": "c9758efe",
   "metadata": {
    "scrolled": true
   },
   "outputs": [
    {
     "data": {
      "text/html": [
       "<div>\n",
       "<style scoped>\n",
       "    .dataframe tbody tr th:only-of-type {\n",
       "        vertical-align: middle;\n",
       "    }\n",
       "\n",
       "    .dataframe tbody tr th {\n",
       "        vertical-align: top;\n",
       "    }\n",
       "\n",
       "    .dataframe thead th {\n",
       "        text-align: right;\n",
       "    }\n",
       "</style>\n",
       "<table border=\"1\" class=\"dataframe\">\n",
       "  <thead>\n",
       "    <tr style=\"text-align: right;\">\n",
       "      <th></th>\n",
       "      <th>meters_per_minute</th>\n",
       "      <th>pickup service minutes</th>\n",
       "      <th>dropoff service minutes</th>\n",
       "      <th>target click-to-door</th>\n",
       "      <th>maximum click-to-door</th>\n",
       "      <th>pay per order</th>\n",
       "      <th>guaranteed pay per hour</th>\n",
       "    </tr>\n",
       "  </thead>\n",
       "  <tbody>\n",
       "    <tr>\n",
       "      <th>0</th>\n",
       "      <td>320</td>\n",
       "      <td>4</td>\n",
       "      <td>4</td>\n",
       "      <td>40</td>\n",
       "      <td>90</td>\n",
       "      <td>10</td>\n",
       "      <td>15</td>\n",
       "    </tr>\n",
       "  </tbody>\n",
       "</table>\n",
       "</div>"
      ],
      "text/plain": [
       "   meters_per_minute  pickup service minutes  dropoff service minutes  \\\n",
       "0                320                       4                        4   \n",
       "\n",
       "   target click-to-door  maximum click-to-door  pay per order  \\\n",
       "0                    40                     90             10   \n",
       "\n",
       "   guaranteed pay per hour  \n",
       "0                       15  "
      ]
     },
     "execution_count": 14,
     "metadata": {},
     "output_type": "execute_result"
    }
   ],
   "source": [
    "parameters = pd.read_csv(\n",
    "    \"https://raw.githubusercontent.com/xoyeon/mdrplib/master/public_instances/0o100t100s1p100/instance_parameters.txt\",\n",
    "    sep = '\\t'\n",
    ")\n",
    "parameters.head()"
   ]
  },
  {
   "cell_type": "markdown",
   "id": "57fa7e03",
   "metadata": {},
   "source": [
    "# Listing 5: Assignment information\n",
    "a s signmen t time , pickup time , Co u ri e r ID , Order ID , . . . , Order ID"
   ]
  },
  {
   "cell_type": "markdown",
   "id": "66425538",
   "metadata": {},
   "source": [
    "'solution_info_assignments.txt'"
   ]
  },
  {
   "cell_type": "code",
   "execution_count": null,
   "id": "aa306f03",
   "metadata": {},
   "outputs": [],
   "source": [
    "assignment_time = \n",
    "pickup_time = \n",
    "courier = \n",
    "bundle = "
   ]
  },
  {
   "cell_type": "code",
   "execution_count": null,
   "id": "eb3513b6",
   "metadata": {},
   "outputs": [],
   "source": [
    "number of orders: 505\n",
    "number of restaurants: 116\n",
    "number of couriers: 113\n",
    "total courier hours: 303.00\n",
    "operating period (minutes): 882l"
   ]
  },
  {
   "cell_type": "code",
   "execution_count": 16,
   "id": "0b329e86",
   "metadata": {},
   "outputs": [
    {
     "data": {
      "text/plain": [
       "restaurant      r1\n",
       "x             8708\n",
       "y             5633\n",
       "Name: 0, dtype: object"
      ]
     },
     "execution_count": 16,
     "metadata": {},
     "output_type": "execute_result"
    }
   ],
   "source": [
    "restaurants.iloc[0]"
   ]
  },
  {
   "cell_type": "code",
   "execution_count": 17,
   "id": "439e8106",
   "metadata": {},
   "outputs": [
    {
     "data": {
      "text/plain": [
       "order               o1\n",
       "x                 9131\n",
       "y                 7497\n",
       "placement_time     743\n",
       "restaurant          r1\n",
       "ready_time         753\n",
       "Name: 0, dtype: object"
      ]
     },
     "execution_count": 17,
     "metadata": {},
     "output_type": "execute_result"
    }
   ],
   "source": [
    "orders.iloc[0]"
   ]
  },
  {
   "cell_type": "code",
   "execution_count": 18,
   "id": "2c3005e3",
   "metadata": {},
   "outputs": [
    {
     "data": {
      "text/plain": [
       "courier        c1\n",
       "x           11491\n",
       "y            2806\n",
       "on_time         0\n",
       "off_time       90\n",
       "Name: 0, dtype: object"
      ]
     },
     "execution_count": 18,
     "metadata": {},
     "output_type": "execute_result"
    }
   ],
   "source": [
    "couriers.iloc[0]"
   ]
  },
  {
   "cell_type": "code",
   "execution_count": 19,
   "id": "d8f95ea1",
   "metadata": {},
   "outputs": [
    {
     "data": {
      "text/plain": [
       "meters_per_minute          320\n",
       "pickup service minutes       4\n",
       "dropoff service minutes      4\n",
       "target click-to-door        40\n",
       "maximum click-to-door       90\n",
       "pay per order               10\n",
       "guaranteed pay per hour     15\n",
       "Name: 0, dtype: int64"
      ]
     },
     "execution_count": 19,
     "metadata": {},
     "output_type": "execute_result"
    }
   ],
   "source": [
    "parameters.iloc[0]"
   ]
  },
  {
   "cell_type": "markdown",
   "id": "3347bda6",
   "metadata": {},
   "source": [
    "# Listing 6: Order delivery information\n",
    "Order ID , placement time , ready time ,\n",
    "pickup time , d e l i v e r y time , c o u r i e r ID"
   ]
  },
  {
   "cell_type": "code",
   "execution_count": 34,
   "id": "d487494d",
   "metadata": {},
   "outputs": [
    {
     "data": {
      "text/html": [
       "<div>\n",
       "<style scoped>\n",
       "    .dataframe tbody tr th:only-of-type {\n",
       "        vertical-align: middle;\n",
       "    }\n",
       "\n",
       "    .dataframe tbody tr th {\n",
       "        vertical-align: top;\n",
       "    }\n",
       "\n",
       "    .dataframe thead th {\n",
       "        text-align: right;\n",
       "    }\n",
       "</style>\n",
       "<table border=\"1\" class=\"dataframe\">\n",
       "  <thead>\n",
       "    <tr style=\"text-align: right;\">\n",
       "      <th></th>\n",
       "      <th>order</th>\n",
       "      <th>placement_time</th>\n",
       "      <th>restaurant</th>\n",
       "      <th>latitude</th>\n",
       "      <th>longitude</th>\n",
       "      <th>ready_time</th>\n",
       "      <th>pickup_time</th>\n",
       "      <th>dropoff_time</th>\n",
       "      <th>courier</th>\n",
       "    </tr>\n",
       "  </thead>\n",
       "  <tbody>\n",
       "    <tr>\n",
       "      <th>0</th>\n",
       "      <td>o1</td>\n",
       "      <td>743</td>\n",
       "      <td>r1</td>\n",
       "      <td>8708.0</td>\n",
       "      <td>5633.0</td>\n",
       "      <td>753</td>\n",
       "      <td>4.0</td>\n",
       "      <td>4.0</td>\n",
       "      <td>c1</td>\n",
       "    </tr>\n",
       "    <tr>\n",
       "      <th>1</th>\n",
       "      <td>o2</td>\n",
       "      <td>541</td>\n",
       "      <td>r2</td>\n",
       "      <td>9103.0</td>\n",
       "      <td>6345.0</td>\n",
       "      <td>557</td>\n",
       "      <td>NaN</td>\n",
       "      <td>NaN</td>\n",
       "      <td>c2</td>\n",
       "    </tr>\n",
       "    <tr>\n",
       "      <th>2</th>\n",
       "      <td>o3</td>\n",
       "      <td>626</td>\n",
       "      <td>r3</td>\n",
       "      <td>8991.0</td>\n",
       "      <td>6342.0</td>\n",
       "      <td>656</td>\n",
       "      <td>NaN</td>\n",
       "      <td>NaN</td>\n",
       "      <td>c3</td>\n",
       "    </tr>\n",
       "    <tr>\n",
       "      <th>3</th>\n",
       "      <td>o4</td>\n",
       "      <td>566</td>\n",
       "      <td>r4</td>\n",
       "      <td>8542.0</td>\n",
       "      <td>5317.0</td>\n",
       "      <td>582</td>\n",
       "      <td>NaN</td>\n",
       "      <td>NaN</td>\n",
       "      <td>c4</td>\n",
       "    </tr>\n",
       "    <tr>\n",
       "      <th>4</th>\n",
       "      <td>o5</td>\n",
       "      <td>574</td>\n",
       "      <td>r5</td>\n",
       "      <td>7577.0</td>\n",
       "      <td>5076.0</td>\n",
       "      <td>582</td>\n",
       "      <td>NaN</td>\n",
       "      <td>NaN</td>\n",
       "      <td>c5</td>\n",
       "    </tr>\n",
       "    <tr>\n",
       "      <th>...</th>\n",
       "      <td>...</td>\n",
       "      <td>...</td>\n",
       "      <td>...</td>\n",
       "      <td>...</td>\n",
       "      <td>...</td>\n",
       "      <td>...</td>\n",
       "      <td>...</td>\n",
       "      <td>...</td>\n",
       "      <td>...</td>\n",
       "    </tr>\n",
       "    <tr>\n",
       "      <th>500</th>\n",
       "      <td>o501</td>\n",
       "      <td>497</td>\n",
       "      <td>NaN</td>\n",
       "      <td>NaN</td>\n",
       "      <td>NaN</td>\n",
       "      <td>521</td>\n",
       "      <td>NaN</td>\n",
       "      <td>NaN</td>\n",
       "      <td>NaN</td>\n",
       "    </tr>\n",
       "    <tr>\n",
       "      <th>501</th>\n",
       "      <td>o502</td>\n",
       "      <td>289</td>\n",
       "      <td>NaN</td>\n",
       "      <td>NaN</td>\n",
       "      <td>NaN</td>\n",
       "      <td>325</td>\n",
       "      <td>NaN</td>\n",
       "      <td>NaN</td>\n",
       "      <td>NaN</td>\n",
       "    </tr>\n",
       "    <tr>\n",
       "      <th>502</th>\n",
       "      <td>o503</td>\n",
       "      <td>576</td>\n",
       "      <td>NaN</td>\n",
       "      <td>NaN</td>\n",
       "      <td>NaN</td>\n",
       "      <td>588</td>\n",
       "      <td>NaN</td>\n",
       "      <td>NaN</td>\n",
       "      <td>NaN</td>\n",
       "    </tr>\n",
       "    <tr>\n",
       "      <th>503</th>\n",
       "      <td>o504</td>\n",
       "      <td>623</td>\n",
       "      <td>NaN</td>\n",
       "      <td>NaN</td>\n",
       "      <td>NaN</td>\n",
       "      <td>649</td>\n",
       "      <td>NaN</td>\n",
       "      <td>NaN</td>\n",
       "      <td>NaN</td>\n",
       "    </tr>\n",
       "    <tr>\n",
       "      <th>504</th>\n",
       "      <td>o505</td>\n",
       "      <td>597</td>\n",
       "      <td>NaN</td>\n",
       "      <td>NaN</td>\n",
       "      <td>NaN</td>\n",
       "      <td>604</td>\n",
       "      <td>NaN</td>\n",
       "      <td>NaN</td>\n",
       "      <td>NaN</td>\n",
       "    </tr>\n",
       "  </tbody>\n",
       "</table>\n",
       "<p>505 rows × 9 columns</p>\n",
       "</div>"
      ],
      "text/plain": [
       "    order  placement_time restaurant  latitude  longitude  ready_time  \\\n",
       "0      o1             743         r1    8708.0     5633.0         753   \n",
       "1      o2             541         r2    9103.0     6345.0         557   \n",
       "2      o3             626         r3    8991.0     6342.0         656   \n",
       "3      o4             566         r4    8542.0     5317.0         582   \n",
       "4      o5             574         r5    7577.0     5076.0         582   \n",
       "..    ...             ...        ...       ...        ...         ...   \n",
       "500  o501             497        NaN       NaN        NaN         521   \n",
       "501  o502             289        NaN       NaN        NaN         325   \n",
       "502  o503             576        NaN       NaN        NaN         588   \n",
       "503  o504             623        NaN       NaN        NaN         649   \n",
       "504  o505             597        NaN       NaN        NaN         604   \n",
       "\n",
       "     pickup_time  dropoff_time courier  \n",
       "0            4.0           4.0      c1  \n",
       "1            NaN           NaN      c2  \n",
       "2            NaN           NaN      c3  \n",
       "3            NaN           NaN      c4  \n",
       "4            NaN           NaN      c5  \n",
       "..           ...           ...     ...  \n",
       "500          NaN           NaN     NaN  \n",
       "501          NaN           NaN     NaN  \n",
       "502          NaN           NaN     NaN  \n",
       "503          NaN           NaN     NaN  \n",
       "504          NaN           NaN     NaN  \n",
       "\n",
       "[505 rows x 9 columns]"
      ]
     },
     "execution_count": 34,
     "metadata": {},
     "output_type": "execute_result"
    }
   ],
   "source": [
    "solution_info_orders = pd.DataFrame({'order' : orders['order'],\n",
    "                                     'placement_time' : orders['placement_time'],\n",
    "                                     'restaurant' : restaurants['restaurant'],\n",
    "                                     'latitude' : restaurants['x'],\n",
    "                                     'longitude' : restaurants['y'],\n",
    "                                     'ready_time' : orders['ready_time'],\n",
    "                                     'pickup_time' : parameters['pickup service minutes'],\n",
    "                                     'dropoff_time' : parameters['dropoff service minutes'],\n",
    "                                     'courier' : couriers['courier']})\n",
    "solution_info_orders.to_csv(\"solution_info_orders.txt\")\n",
    "solution_info_orders"
   ]
  },
  {
   "cell_type": "code",
   "execution_count": 32,
   "id": "9836e9c5",
   "metadata": {},
   "outputs": [],
   "source": [
    "solution_info_orders.to_csv(\"solution_info_orders.txt\")"
   ]
  },
  {
   "cell_type": "markdown",
   "id": "091cf71e",
   "metadata": {},
   "source": [
    "# Listing 7: Courier dispatch information\n",
    "Co u ri e r ID , d e pa r t u r e time , o ri gi n , d e s t i n a t i o n"
   ]
  },
  {
   "cell_type": "code",
   "execution_count": null,
   "id": "b7a2821a",
   "metadata": {},
   "outputs": [],
   "source": [
    "courier_id = couriers['courier']\n",
    "departure_time = \n",
    "origin = 0\n",
    "destination = "
   ]
  },
  {
   "cell_type": "code",
   "execution_count": null,
   "id": "3b6a6eec",
   "metadata": {},
   "outputs": [],
   "source": []
  },
  {
   "cell_type": "markdown",
   "id": "7c362435",
   "metadata": {},
   "source": [
    "---"
   ]
  },
  {
   "cell_type": "code",
   "execution_count": 17,
   "id": "c39f1232",
   "metadata": {},
   "outputs": [
    {
     "data": {
      "image/png": "[encoded data removed]",
      "text/plain": [
       "<Figure size 432x288 with 1 Axes>"
      ]
     },
     "metadata": {
      "needs_background": "light"
     },
     "output_type": "display_data"
    }
   ],
   "source": [
    "x = couriers['x']\n",
    "y = couriers['y']\n",
    "\n",
    "fig, ax = plt.subplots()\n",
    "\n",
    "ax.scatter(x,y,10, 'c')\n",
    "plt.show()"
   ]
  },
  {
   "cell_type": "code",
   "execution_count": 21,
   "id": "e6979d4c",
   "metadata": {},
   "outputs": [
    {
     "data": {
      "image/png": "[encoded data removed]",
      "text/plain": [
       "<Figure size 432x288 with 1 Axes>"
      ]
     },
     "metadata": {
      "needs_background": "light"
     },
     "output_type": "display_data"
    }
   ],
   "source": [
    "x = orders['x']\n",
    "y = orders['y']\n",
    "\n",
    "fig, ax = plt.subplots()\n",
    "\n",
    "ax.scatter(x,y,10,'y')\n",
    "plt.show()"
   ]
  },
  {
   "cell_type": "code",
   "execution_count": 20,
   "id": "998f591e",
   "metadata": {},
   "outputs": [
    {
     "data": {
      "image/png": "[encoded data removed]",
      "text/plain": [
       "<Figure size 432x288 with 1 Axes>"
      ]
     },
     "metadata": {
      "needs_background": "light"
     },
     "output_type": "display_data"
    }
   ],
   "source": [
    "x = restaurants['x']\n",
    "y = restaurants['y']\n",
    "\n",
    "fig, ax = plt.subplots()\n",
    "\n",
    "ax.scatter(x,y,10,'r')\n",
    "plt.show()"
   ]
  },
  {
   "cell_type": "code",
   "execution_count": 22,
   "id": "d1bc841d",
   "metadata": {},
   "outputs": [],
   "source": [
    "from matplotlib import rcParams\n",
    "\n",
    "# figure size in inches\n",
    "rcParams['figure.figsize'] = 10, 10"
   ]
  },
  {
   "cell_type": "code",
   "execution_count": 23,
   "id": "9c9f9331",
   "metadata": {},
   "outputs": [
    {
     "data": {
      "image/png": "[encoded data removed]",
      "text/plain": [
       "<Figure size 720x720 with 1 Axes>"
      ]
     },
     "metadata": {
      "needs_background": "light"
     },
     "output_type": "display_data"
    }
   ],
   "source": [
    "cx = couriers['x']\n",
    "cy = couriers['y']\n",
    "\n",
    "fig, ax = plt.subplots()\n",
    "\n",
    "ax.scatter(cx,cy,10, 'c')\n",
    "# plt.show()\n",
    "\n",
    "ox = orders['x']\n",
    "oy = orders['y']\n",
    "\n",
    "# fig, ax = plt.subplots()\n",
    "\n",
    "ax.scatter(ox,oy,10,'y')\n",
    "# plt.show()\n",
    "\n",
    "rx = restaurants['x']\n",
    "ry = restaurants['y']\n",
    "\n",
    "# fig, ax = plt.subplots()\n",
    "\n",
    "ax.scatter(rx,ry,10,'r')\n",
    "plt.show()"
   ]
  },
  {
   "cell_type": "markdown",
   "id": "59d3257e",
   "metadata": {},
   "source": [
    "# order 좌표 restaurent 좌표 붙이기"
   ]
  },
  {
   "cell_type": "code",
   "execution_count": 26,
   "id": "dd19bb9b",
   "metadata": {},
   "outputs": [
    {
     "data": {
      "text/html": [
       "<div>\n",
       "<style scoped>\n",
       "    .dataframe tbody tr th:only-of-type {\n",
       "        vertical-align: middle;\n",
       "    }\n",
       "\n",
       "    .dataframe tbody tr th {\n",
       "        vertical-align: top;\n",
       "    }\n",
       "\n",
       "    .dataframe thead th {\n",
       "        text-align: right;\n",
       "    }\n",
       "</style>\n",
       "<table border=\"1\" class=\"dataframe\">\n",
       "  <thead>\n",
       "    <tr style=\"text-align: right;\">\n",
       "      <th></th>\n",
       "      <th>order</th>\n",
       "      <th>order_x</th>\n",
       "      <th>order_y</th>\n",
       "      <th>placement_time</th>\n",
       "      <th>ready_time</th>\n",
       "      <th>restaurant</th>\n",
       "      <th>restaurant_x</th>\n",
       "      <th>restaurant_y</th>\n",
       "    </tr>\n",
       "  </thead>\n",
       "  <tbody>\n",
       "    <tr>\n",
       "      <th>0</th>\n",
       "      <td>o1</td>\n",
       "      <td>9131</td>\n",
       "      <td>7497</td>\n",
       "      <td>743</td>\n",
       "      <td>753</td>\n",
       "      <td>r1</td>\n",
       "      <td>8708</td>\n",
       "      <td>5633</td>\n",
       "    </tr>\n",
       "    <tr>\n",
       "      <th>1</th>\n",
       "      <td>o8</td>\n",
       "      <td>7940</td>\n",
       "      <td>6877</td>\n",
       "      <td>612</td>\n",
       "      <td>622</td>\n",
       "      <td>r1</td>\n",
       "      <td>8708</td>\n",
       "      <td>5633</td>\n",
       "    </tr>\n",
       "    <tr>\n",
       "      <th>2</th>\n",
       "      <td>o21</td>\n",
       "      <td>7377</td>\n",
       "      <td>5287</td>\n",
       "      <td>336</td>\n",
       "      <td>346</td>\n",
       "      <td>r1</td>\n",
       "      <td>8708</td>\n",
       "      <td>5633</td>\n",
       "    </tr>\n",
       "    <tr>\n",
       "      <th>3</th>\n",
       "      <td>o26</td>\n",
       "      <td>6992</td>\n",
       "      <td>7441</td>\n",
       "      <td>623</td>\n",
       "      <td>633</td>\n",
       "      <td>r1</td>\n",
       "      <td>8708</td>\n",
       "      <td>5633</td>\n",
       "    </tr>\n",
       "    <tr>\n",
       "      <th>4</th>\n",
       "      <td>o38</td>\n",
       "      <td>10981</td>\n",
       "      <td>6805</td>\n",
       "      <td>594</td>\n",
       "      <td>614</td>\n",
       "      <td>r1</td>\n",
       "      <td>8708</td>\n",
       "      <td>5633</td>\n",
       "    </tr>\n",
       "    <tr>\n",
       "      <th>...</th>\n",
       "      <td>...</td>\n",
       "      <td>...</td>\n",
       "      <td>...</td>\n",
       "      <td>...</td>\n",
       "      <td>...</td>\n",
       "      <td>...</td>\n",
       "      <td>...</td>\n",
       "      <td>...</td>\n",
       "    </tr>\n",
       "    <tr>\n",
       "      <th>500</th>\n",
       "      <td>o426</td>\n",
       "      <td>10229</td>\n",
       "      <td>7353</td>\n",
       "      <td>124</td>\n",
       "      <td>154</td>\n",
       "      <td>r112</td>\n",
       "      <td>8884</td>\n",
       "      <td>7405</td>\n",
       "    </tr>\n",
       "    <tr>\n",
       "      <th>501</th>\n",
       "      <td>o430</td>\n",
       "      <td>953</td>\n",
       "      <td>4911</td>\n",
       "      <td>73</td>\n",
       "      <td>104</td>\n",
       "      <td>r113</td>\n",
       "      <td>796</td>\n",
       "      <td>6628</td>\n",
       "    </tr>\n",
       "    <tr>\n",
       "      <th>502</th>\n",
       "      <td>o445</td>\n",
       "      <td>9454</td>\n",
       "      <td>7984</td>\n",
       "      <td>646</td>\n",
       "      <td>661</td>\n",
       "      <td>r114</td>\n",
       "      <td>7526</td>\n",
       "      <td>7726</td>\n",
       "    </tr>\n",
       "    <tr>\n",
       "      <th>503</th>\n",
       "      <td>o451</td>\n",
       "      <td>9671</td>\n",
       "      <td>8669</td>\n",
       "      <td>741</td>\n",
       "      <td>771</td>\n",
       "      <td>r115</td>\n",
       "      <td>9843</td>\n",
       "      <td>9303</td>\n",
       "    </tr>\n",
       "    <tr>\n",
       "      <th>504</th>\n",
       "      <td>o487</td>\n",
       "      <td>7585</td>\n",
       "      <td>7376</td>\n",
       "      <td>181</td>\n",
       "      <td>200</td>\n",
       "      <td>r116</td>\n",
       "      <td>4989</td>\n",
       "      <td>7474</td>\n",
       "    </tr>\n",
       "  </tbody>\n",
       "</table>\n",
       "<p>505 rows × 8 columns</p>\n",
       "</div>"
      ],
      "text/plain": [
       "    order  order_x  order_y  placement_time  ready_time restaurant  \\\n",
       "0      o1     9131     7497             743         753         r1   \n",
       "1      o8     7940     6877             612         622         r1   \n",
       "2     o21     7377     5287             336         346         r1   \n",
       "3     o26     6992     7441             623         633         r1   \n",
       "4     o38    10981     6805             594         614         r1   \n",
       "..    ...      ...      ...             ...         ...        ...   \n",
       "500  o426    10229     7353             124         154       r112   \n",
       "501  o430      953     4911              73         104       r113   \n",
       "502  o445     9454     7984             646         661       r114   \n",
       "503  o451     9671     8669             741         771       r115   \n",
       "504  o487     7585     7376             181         200       r116   \n",
       "\n",
       "     restaurant_x  restaurant_y  \n",
       "0            8708          5633  \n",
       "1            8708          5633  \n",
       "2            8708          5633  \n",
       "3            8708          5633  \n",
       "4            8708          5633  \n",
       "..            ...           ...  \n",
       "500          8884          7405  \n",
       "501           796          6628  \n",
       "502          7526          7726  \n",
       "503          9843          9303  \n",
       "504          4989          7474  \n",
       "\n",
       "[505 rows x 8 columns]"
      ]
     },
     "execution_count": 26,
     "metadata": {},
     "output_type": "execute_result"
    }
   ],
   "source": [
    "merge_m = pd.merge(restaurants, orders)\n",
    "merge_m = merge_m[['order', 'order_x', 'order_y', 'placement_time','ready_time', 'restaurant', 'restaurant_x', 'restaurant_y']]\n",
    "merge_m"
   ]
  },
  {
   "cell_type": "code",
   "execution_count": 25,
   "id": "d2643d33",
   "metadata": {},
   "outputs": [
    {
     "data": {
      "text/plain": [
       "2287"
      ]
     },
     "execution_count": 25,
     "metadata": {},
     "output_type": "execute_result"
    }
   ],
   "source": [
    "import numpy as np\n",
    "from scipy.spatial.distance import cityblock\n",
    "\n",
    "o = (order_x, order_y)\n",
    "r= (restaurant_x, restaurant_y)\n",
    "\n",
    "cityblock(o,r)"
   ]
  },
  {
   "cell_type": "code",
   "execution_count": 14,
   "id": "627780de",
   "metadata": {},
   "outputs": [
    {
     "data": {
      "text/plain": [
       "42689.159385024206"
      ]
     },
     "execution_count": 14,
     "metadata": {},
     "output_type": "execute_result"
    }
   ],
   "source": [
    "import numpy as np\n",
    "from scipy.spatial.distance import cityblock\n",
    "from scipy.spatial import distance\n",
    "\n",
    "o = np.array(merge_m['order_x'],merge_m['order_y'])\n",
    "r= np.array(merge_m['restaurant_x'],merge_m['restaurant_y'])\n",
    "\n",
    "dist = np.linalg.norm(o-r)\n",
    "dist"
   ]
  },
  {
   "cell_type": "code",
   "execution_count": 25,
   "id": "d3b5f907",
   "metadata": {},
   "outputs": [
    {
     "data": {
      "text/html": [
       "<div>\n",
       "<style scoped>\n",
       "    .dataframe tbody tr th:only-of-type {\n",
       "        vertical-align: middle;\n",
       "    }\n",
       "\n",
       "    .dataframe tbody tr th {\n",
       "        vertical-align: top;\n",
       "    }\n",
       "\n",
       "    .dataframe thead th {\n",
       "        text-align: right;\n",
       "    }\n",
       "</style>\n",
       "<table border=\"1\" class=\"dataframe\">\n",
       "  <thead>\n",
       "    <tr style=\"text-align: right;\">\n",
       "      <th></th>\n",
       "      <th>number of orders: 505</th>\n",
       "    </tr>\n",
       "  </thead>\n",
       "  <tbody>\n",
       "    <tr>\n",
       "      <th>0</th>\n",
       "      <td>number of restaurants: 116</td>\n",
       "    </tr>\n",
       "    <tr>\n",
       "      <th>1</th>\n",
       "      <td>number of couriers: 113</td>\n",
       "    </tr>\n",
       "    <tr>\n",
       "      <th>2</th>\n",
       "      <td>total courier hours: 303.00</td>\n",
       "    </tr>\n",
       "    <tr>\n",
       "      <th>3</th>\n",
       "      <td>operating period (minutes): 882</td>\n",
       "    </tr>\n",
       "    <tr>\n",
       "      <th>4</th>\n",
       "      <td>degree of dynamism: 0.40</td>\n",
       "    </tr>\n",
       "  </tbody>\n",
       "</table>\n",
       "</div>"
      ],
      "text/plain": [
       "             number of orders: 505\n",
       "0       number of restaurants: 116\n",
       "1          number of couriers: 113\n",
       "2      total courier hours: 303.00\n",
       "3  operating period (minutes): 882\n",
       "4         degree of dynamism: 0.40"
      ]
     },
     "execution_count": 25,
     "metadata": {},
     "output_type": "execute_result"
    }
   ],
   "source": [
    "characteristics = pd.read_csv(\n",
    "    \"https://raw.githubusercontent.com/xoyeon/mdrplib/master/public_instances/0o100t100s1p100/instance_characteristics.txt\",\n",
    "    sep = ',')\n",
    "characteristics.head()"
   ]
  },
  {
   "cell_type": "code",
   "execution_count": null,
   "id": "10f15881",
   "metadata": {},
   "outputs": [],
   "source": []
  }
 ],
 "metadata": {
  "kernelspec": {
   "display_name": "geo",
   "language": "python",
   "name": "geo"
  },
  "language_info": {
   "codemirror_mode": {
    "name": "ipython",
    "version": 3
   },
   "file_extension": ".py",
   "mimetype": "text/x-python",
   "name": "python",
   "nbconvert_exporter": "python",
   "pygments_lexer": "ipython3",
   "version": "3.10.4"
  }
 },
 "nbformat": 4,
 "nbformat_minor": 5
}
